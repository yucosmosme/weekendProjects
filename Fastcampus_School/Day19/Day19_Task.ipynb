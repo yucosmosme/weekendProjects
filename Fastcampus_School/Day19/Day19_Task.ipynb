{
 "cells": [
  {
   "cell_type": "markdown",
   "metadata": {},
   "source": [
    "### 필수1\n",
    "\n",
    "1. DB란 무엇이고 왜 중요한지 개인적인 생각을 정리해서 서술해주세요. 첫인상, 느낌을 적으셔도 됩니다.\n",
    "> 데이터의 모음...한 집단의 방대한 데이터를 축적하고, 그것을 잘 관리해야 그것을 기반으로 여러 사람이 공유하고 활용할 수 있다.\n",
    "\n",
    "2. 아래는 맥용 DB Browser For SQLite 링크입니다. 혹시 제공된 파일이 윈도우 전용이라 설치를 못하신 분들은 아래 경로에서 설치해주세요 :)\n",
    "https://download.sqlitebrowser.org/DB.Browser.for.SQLite-3.11.2.dmg    "
   ]
  },
  {
   "cell_type": "code",
   "execution_count": 7,
   "metadata": {
    "scrolled": false
   },
   "outputs": [],
   "source": [
    "### 필수2\n",
    "#아래와 같이 db가 연결되어 있습니다. 요구조건을 충족하는 코드를 각각 작성해주세요.\n",
    "import sqlite3\n",
    "conn = sqlite3.connect('./database.db', isolation_level=None)\n",
    "c = conn.cursor()\n",
    "\n",
    "#1. 데이터베이스에 users인 테이블이 없다면 생성하는 코드를 작성해주세요.\n",
    "#(컬럼은 id(정수, 고유한 값), username(텍스트), email(텍스트)까지만 생성합니다.)\n",
    "\n",
    "c.execute(\"DELETE FROM users\")\n",
    "c.execute(\"CREATE TABLE IF NOT EXISTS users(id INTEGER PRIMARY KEY, username text, email text)\")\n",
    "\n",
    "\n",
    "#2. 1번을 기반으로 임의의 데이터 하나를 입력하는 코드를 작성해주세요.\n",
    "\n",
    "c.execute(\"INSERT INTO users VALUES(1, 'Yu','Yu@naver.com')\")\n",
    "\n",
    "#3. 1번을 기반으로 임의의 여러개의 데이터를 삽입하는 코드를 작성해주세요.\n",
    "\n",
    "userList = (\n",
    "    (2, 'zach','zmullaghy@gmail.com'),\n",
    "    (3,'tom', 'tommy@daum.net'))\n",
    "\n",
    "c.executemany(\"INSERT INTO users(id, username, email) VALUES(?,?,?)\",userList)\n",
    "\n",
    "conn.close()"
   ]
  },
  {
   "cell_type": "code",
   "execution_count": 10,
   "metadata": {},
   "outputs": [
    {
     "name": "stdout",
     "output_type": "stream",
     "text": [
      "All ->\n",
      " [(1, 'Yu', 'Yu@naver.com'), (2, 'zach', 'zmullaghy@gmail.com'), (3, 'tom', 'tommy@daum.net')]\n"
     ]
    }
   ],
   "source": [
    "# ### 필수3\n",
    "\n",
    "# 아래와 같이 db가 연결되어 있습니다. 요구조건을 충족하는 코드를 각각 작성해주세요.\n",
    "conn = sqlite3.connect('./database.db', isolation_level=None)\n",
    "c = conn.cursor()\n",
    "\n",
    "# 1. 전체 데이터를 조회한 뒤 전체 로우를 출력하는 코드를 작성해주세요.\n",
    "c.execute(\"SELECT * FROM users\")\n",
    "print('All ->\\n', c.fetchall())"
   ]
  },
  {
   "cell_type": "code",
   "execution_count": 12,
   "metadata": {},
   "outputs": [
    {
     "name": "stdout",
     "output_type": "stream",
     "text": [
      "retrieve2> (1, 'Yu', 'Yu@naver.com')\n",
      "retrieve2> (2, 'zach', 'zmullaghy@gmail.com')\n",
      "retrieve2> (3, 'tom', 'tommy@daum.net')\n"
     ]
    }
   ],
   "source": [
    "# 2. 전체 데이터를 순회하여 하나의 로우씩 출력하는 코드를 작성해주세요.\n",
    "c.execute(\"SELECT * FROM users\")\n",
    "for row in c.fetchall():\n",
    "    print('retrieve2>',row)"
   ]
  },
  {
   "cell_type": "code",
   "execution_count": 13,
   "metadata": {},
   "outputs": [
    {
     "name": "stdout",
     "output_type": "stream",
     "text": [
      "param1 (2, 'zach', 'zmullaghy@gmail.com')\n"
     ]
    }
   ],
   "source": [
    "# ### 필수4\n",
    "\n",
    "# 아래와 같이 db가 연결되어 있습니다. 요구조건을 충족하는 코드를 각각 작성해주세요.\n",
    "# conn = sqlite3.connect('/Users/fastcampus/resource/database.db', isolation_level=None)\n",
    "# c = conn.cursor\n",
    "\n",
    "# 1. id가 2인 데이터를 찾아서 출력하는 코드를 작성해주세요.\n",
    "param1 = (2,)\n",
    "c.execute ('SELECT* FROM users WHERE id=?', param1)\n",
    "print('param1',c.fetchone())\n",
    "\n",
    "# 2. id가 2와 4인 데이터를 찾아서 출력하는 코드를 딕셔너리를 활용하여 작성해주세요.\n"
   ]
  },
  {
   "cell_type": "code",
   "execution_count": 14,
   "metadata": {},
   "outputs": [
    {
     "name": "stdout",
     "output_type": "stream",
     "text": [
      "param2 [(2, 'zach', 'zmullaghy@gmail.com')]\n"
     ]
    }
   ],
   "source": [
    "# 2. id가 2와 4인 데이터를 찾아서 출력하는 코드를 딕셔너리를 활용하여 작성해주세요.\n",
    "\n",
    "param2 = (2,4)\n",
    "c.execute (\"SELECT* FROM users WHERE id IN(?,?)\",param2)\n",
    "print('param2',c.fetchall()) #id가 4인 데이터 없음"
   ]
  },
  {
   "cell_type": "code",
   "execution_count": 22,
   "metadata": {},
   "outputs": [],
   "source": [
    "### 심화1\n",
    "\n",
    "import csv\n",
    "\n",
    "# 아래와 같이 db가 연결되어 있습니다. 요구조건을 충족하는 코드를 각각 작성해주세요.\n",
    "conn = sqlite3.connect('./database.db', isolation_level=None)\n",
    "c = conn.cursor()\n",
    "\n",
    "# 해당 데이터를 모두 불러와서 그대로 임의의 csv 파일에 새로 작성해주세요.\n",
    "c.execute ('SELECT * FROM users')\n",
    "\n",
    "with open ('names.csv', 'w', newline=\"\") as f :\n",
    "    w=csv.writer(f)\n",
    "    w.writerows(c.fetchall())"
   ]
  },
  {
   "cell_type": "code",
   "execution_count": 24,
   "metadata": {},
   "outputs": [
    {
     "name": "stdout",
     "output_type": "stream",
     "text": [
      "Dump Print Complete\n"
     ]
    }
   ],
   "source": [
    "### 심화2\n",
    "\n",
    "# 1. 강의에 나온 Dump에 대한 설명을 서술해주세요.\n",
    "# Database를 백업해줌. insert문, create문 등을 백업하여 다른 컴퓨터에서 해당 database를 재구성할 수 있음 \n",
    "\n",
    "# 2. 아래와 같이 db가 연결되어 있습니다. 강의에 나온 Dump를 출력하는 코드를 작성해주세요. (임의의 경로입니다.)\n",
    "# conn = sqlite3.connect('/Users/fastcampus/resource/database.db')\n",
    "\n",
    "with conn:\n",
    "    with open('./database.db','w') as f:\n",
    "        for line in conn.iterdump():\n",
    "            f.write('%s\\n' % line)\n",
    "        print('Dump Print Complete')"
   ]
  },
  {
   "cell_type": "code",
   "execution_count": null,
   "metadata": {},
   "outputs": [],
   "source": []
  }
 ],
 "metadata": {
  "kernelspec": {
   "display_name": "Python 3",
   "language": "python",
   "name": "python3"
  },
  "language_info": {
   "codemirror_mode": {
    "name": "ipython",
    "version": 3
   },
   "file_extension": ".py",
   "mimetype": "text/x-python",
   "name": "python",
   "nbconvert_exporter": "python",
   "pygments_lexer": "ipython3",
   "version": "3.7.3"
  }
 },
 "nbformat": 4,
 "nbformat_minor": 2
}
