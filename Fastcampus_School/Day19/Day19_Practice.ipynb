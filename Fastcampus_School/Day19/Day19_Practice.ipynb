{
 "cells": [
  {
   "cell_type": "markdown",
   "metadata": {},
   "source": [
    "## 파이썬 데이터베이스 연동(SQLite)\n",
    "- 테이블 생성 및 삽입"
   ]
  },
  {
   "cell_type": "code",
   "execution_count": 2,
   "metadata": {},
   "outputs": [
    {
     "name": "stdout",
     "output_type": "stream",
     "text": [
      "sqlite3.version: 2.6.0\n",
      "sqlite3.sqlite_version: 3.27.2\n"
     ]
    }
   ],
   "source": [
    "import sqlite3\n",
    "print('sqlite3.version:', sqlite3.version)   #버전확인\n",
    "print('sqlite3.sqlite_version:', sqlite3.sqlite_version)\n"
   ]
  },
  {
   "cell_type": "code",
   "execution_count": 3,
   "metadata": {},
   "outputs": [
    {
     "name": "stdout",
     "output_type": "stream",
     "text": [
      "now: 2019-06-27 14:05:54.419268\n",
      "nowDatetime: 2019-06-27 14:05:54\n"
     ]
    }
   ],
   "source": [
    "#삽입 날짜 생성\n",
    "import datetime\n",
    "now=datetime.datetime.now()\n",
    "print('now:',now)\n",
    "\n",
    "nowDatetime=now.strftime('%Y-%m-%d %H:%M:%S')\n",
    "print('nowDatetime:', nowDatetime)"
   ]
  },
  {
   "cell_type": "code",
   "execution_count": 4,
   "metadata": {},
   "outputs": [],
   "source": [
    "# DB 생성 & Auto Commit (Rollback)\n",
    "conn = sqlite3.connect('./database2.db',isolation_level=None)"
   ]
  },
  {
   "cell_type": "code",
   "execution_count": 5,
   "metadata": {},
   "outputs": [
    {
     "name": "stdout",
     "output_type": "stream",
     "text": [
      "Cursor Type: <class 'sqlite3.Cursor'>\n"
     ]
    }
   ],
   "source": [
    "# Cursor\n",
    "c=conn.cursor()\n",
    "print('Cursor Type:',type(c))"
   ]
  },
  {
   "cell_type": "code",
   "execution_count": 14,
   "metadata": {
    "scrolled": true
   },
   "outputs": [
    {
     "data": {
      "text/plain": [
       "<sqlite3.Cursor at 0x1b02651e9d0>"
      ]
     },
     "execution_count": 14,
     "metadata": {},
     "output_type": "execute_result"
    }
   ],
   "source": [
    "#테이블 생성(Data type: TEXT, NUMERIC, INTEGER정수, REAL, BLOB)\n",
    "c.execute(\"CREATE TABLE IF NOT EXISTS users(id INTEGER PRIMARY KEY, username text, email text, phone text, website text, regdate text )\")\n"
   ]
  },
  {
   "cell_type": "code",
   "execution_count": 15,
   "metadata": {},
   "outputs": [
    {
     "data": {
      "text/plain": [
       "<sqlite3.Cursor at 0x1b02651ec70>"
      ]
     },
     "execution_count": 15,
     "metadata": {},
     "output_type": "execute_result"
    }
   ],
   "source": [
    "#데이터 삽입\n",
    "conn = sqlite3.connect('./database2.db',isolation_level=None)\n",
    "c=conn.cursor()\n",
    "c.execute(\"INSERT INTO users VALUES(1, 'Kim','Kim@naver.com','010-1345-6544', 'kim.com',?)\",(nowDatetime,))   #물음표는 뒤에 튜플추가하면 됨"
   ]
  },
  {
   "cell_type": "code",
   "execution_count": 16,
   "metadata": {
    "scrolled": false
   },
   "outputs": [
    {
     "data": {
      "text/plain": [
       "<sqlite3.Cursor at 0x1b02651ec70>"
      ]
     },
     "execution_count": 16,
     "metadata": {},
     "output_type": "execute_result"
    }
   ],
   "source": [
    "#데이터 삽입 2번째 방법\n",
    "c.execute(\"INSERT INTO users(id, username, email, phone, website, regdate) VALUES(?,?,?,?,?,?)\", (2, 'park','park@daum.net','010-4444-3333','park.com',nowDatetime))\n"
   ]
  },
  {
   "cell_type": "code",
   "execution_count": 17,
   "metadata": {
    "scrolled": false
   },
   "outputs": [
    {
     "data": {
      "text/plain": [
       "<sqlite3.Cursor at 0x1b02651ec70>"
      ]
     },
     "execution_count": 17,
     "metadata": {},
     "output_type": "execute_result"
    }
   ],
   "source": [
    "#Many 삽입(튜플, 리스트)\n",
    "userList = (\n",
    "    (3, 'lee','lee@naver.com','010-2222-3333','lee.com',nowDatetime),\n",
    "    (4,'cho', 'cho@daum.net','010-333-2222','cho.com',nowDatetime))\n",
    "\n",
    "c.executemany(\"INSERT INTO users(id, username, email, phone, website, regdate) VALUES(?,?,?,?,?,?)\",userList)"
   ]
  },
  {
   "cell_type": "code",
   "execution_count": 13,
   "metadata": {},
   "outputs": [
    {
     "data": {
      "text/plain": [
       "<sqlite3.Cursor at 0x1b02651e500>"
      ]
     },
     "execution_count": 13,
     "metadata": {},
     "output_type": "execute_result"
    }
   ],
   "source": [
    "#테이블 데이터 삭제\n",
    "#conn.execute(\"DELETE FROM users\")\n",
    "#print(\"users db deleted : \", conn.execute(\"DELETE FROM users\").rowcount)"
   ]
  },
  {
   "cell_type": "code",
   "execution_count": null,
   "metadata": {},
   "outputs": [],
   "source": [
    "# 커밋: isolation_level = None 일 경우 자동 반영으로 커밋"
   ]
  },
  {
   "cell_type": "code",
   "execution_count": 22,
   "metadata": {
    "scrolled": true
   },
   "outputs": [
    {
     "name": "stdout",
     "output_type": "stream",
     "text": [
      "One->\n",
      " (1, 'Kim', 'Kim@naver.com', '010-1345-6544', 'kim.com', '2019-06-27 14:05:54')\n"
     ]
    }
   ],
   "source": [
    "#1개 로우 선택\n",
    "c.execute(\"SELECT * FROM users\")\n",
    "print('One->\\n', c.fetchone())"
   ]
  },
  {
   "cell_type": "code",
   "execution_count": 23,
   "metadata": {},
   "outputs": [
    {
     "name": "stdout",
     "output_type": "stream",
     "text": [
      "Three -> \n",
      " [(1, 'Kim', 'Kim@naver.com', '010-1345-6544', 'kim.com', '2019-06-27 14:05:54'), (2, 'park', 'park@daum.net', '010-4444-3333', 'park.com', '2019-06-27 14:05:54'), (3, 'lee', 'lee@naver.com', '010-2222-3333', 'lee.com', '2019-06-27 14:05:54')]\n"
     ]
    }
   ],
   "source": [
    "#지정 로우 선택\n",
    "c.execute(\"SELECT * FROM users\")\n",
    "print(\"Three -> \\n\", c.fetchmany(size=3))"
   ]
  },
  {
   "cell_type": "code",
   "execution_count": 24,
   "metadata": {},
   "outputs": [
    {
     "name": "stdout",
     "output_type": "stream",
     "text": [
      "All ->\n",
      " [(1, 'Kim', 'Kim@naver.com', '010-1345-6544', 'kim.com', '2019-06-27 14:05:54'), (2, 'park', 'park@daum.net', '010-4444-3333', 'park.com', '2019-06-27 14:05:54'), (3, 'lee', 'lee@naver.com', '010-2222-3333', 'lee.com', '2019-06-27 14:05:54'), (4, 'cho', 'cho@daum.net', '010-333-2222', 'cho.com', '2019-06-27 14:05:54')]\n"
     ]
    }
   ],
   "source": [
    "#전체 로우 선택\n",
    "c.execute(\"SELECT * FROM users\")\n",
    "print('All ->\\n', c.fetchall())"
   ]
  },
  {
   "cell_type": "code",
   "execution_count": 27,
   "metadata": {},
   "outputs": [
    {
     "name": "stdout",
     "output_type": "stream",
     "text": [
      "retrieve1 > (1, 'Kim', 'Kim@naver.com', '010-1345-6544', 'kim.com', '2019-06-27 14:05:54')\n",
      "retrieve1 > (2, 'park', 'park@daum.net', '010-4444-3333', 'park.com', '2019-06-27 14:05:54')\n",
      "retrieve1 > (3, 'lee', 'lee@naver.com', '010-2222-3333', 'lee.com', '2019-06-27 14:05:54')\n",
      "retrieve1 > (4, 'cho', 'cho@daum.net', '010-333-2222', 'cho.com', '2019-06-27 14:05:54')\n"
     ]
    }
   ],
   "source": [
    "#순회1\n",
    "c.execute(\"SELECT * FROM users\")\n",
    "rows=c.fetchall()\n",
    "for row in rows:\n",
    "    print('retrieve1 >', row)\n",
    "\n",
    "#방법2\n",
    "#for row in c.fetchall():\n",
    "#    print('retrieve2>',row)\n",
    "\n",
    "#방법3\n",
    "#for row in c.execute('SELECT*FROM users ORDER BY id desc'):\n",
    "#    print('retrieve3>',row)"
   ]
  },
  {
   "cell_type": "code",
   "execution_count": 37,
   "metadata": {
    "scrolled": true
   },
   "outputs": [
    {
     "name": "stdout",
     "output_type": "stream",
     "text": [
      "param1 (2, 'park', 'park@daum.net', '010-4444-3333', 'park.com', '2019-06-27 14:05:54')\n"
     ]
    }
   ],
   "source": [
    "#WHERE Retrieve1 -----3번째열 데이터만 튜플로 가져오기\n",
    "param1 = (2,) #--튜플로, 쉼표로 구분해서 가져옴\n",
    "\n",
    "c.execute ('SELECT* FROM users WHERE id=?', param1)\n",
    "print('param1',c.fetchone())"
   ]
  },
  {
   "cell_type": "code",
   "execution_count": 39,
   "metadata": {},
   "outputs": [
    {
     "name": "stdout",
     "output_type": "stream",
     "text": [
      "param2 (3, 'lee', 'lee@naver.com', '010-2222-3333', 'lee.com', '2019-06-27 14:05:54')\n"
     ]
    }
   ],
   "source": [
    "#튜플 말고 인티저로 바인딩\n",
    "\n",
    "param2 = 3\n",
    "c.execute ('SELECT* FROM users WHERE id=\"%s\"' % param2)\n",
    "print('param2',c.fetchone())"
   ]
  },
  {
   "cell_type": "code",
   "execution_count": 48,
   "metadata": {
    "scrolled": true
   },
   "outputs": [
    {
     "name": "stdout",
     "output_type": "stream",
     "text": [
      "param3 (3, 'lee', 'lee@naver.com', '010-2222-3333', 'lee.com', '2019-06-27 14:05:54')\n"
     ]
    }
   ],
   "source": [
    "#딕셔너리로 가져오기\n",
    "\n",
    "c.execute ('SELECT* FROM users WHERE id=:Id',{\"Id\":3})\n",
    "print('param3',c.fetchone())"
   ]
  },
  {
   "cell_type": "code",
   "execution_count": 51,
   "metadata": {},
   "outputs": [
    {
     "name": "stdout",
     "output_type": "stream",
     "text": [
      "param4 [(1, 'Kim', 'Kim@naver.com', '010-1345-6544', 'kim.com', '2019-06-27 14:05:54'), (2, 'park', 'park@daum.net', '010-4444-3333', 'park.com', '2019-06-27 14:05:54')]\n"
     ]
    }
   ],
   "source": [
    "#여러개 가져오기\n",
    "\n",
    "param4 = (1,2)\n",
    "c.execute (\"SELECT* FROM users WHERE id IN(?,?)\",param4)\n",
    "print('param4',c.fetchall())"
   ]
  }
 ],
 "metadata": {
  "kernelspec": {
   "display_name": "Python 3",
   "language": "python",
   "name": "python3"
  },
  "language_info": {
   "codemirror_mode": {
    "name": "ipython",
    "version": 3
   },
   "file_extension": ".py",
   "mimetype": "text/x-python",
   "name": "python",
   "nbconvert_exporter": "python",
   "pygments_lexer": "ipython3",
   "version": "3.7.3"
  }
 },
 "nbformat": 4,
 "nbformat_minor": 2
}
