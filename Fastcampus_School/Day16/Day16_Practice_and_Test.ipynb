{
 "cells": [
  {
   "cell_type": "markdown",
   "metadata": {},
   "source": [
    "## Day 15,16 Task - Class"
   ]
  },
  {
   "cell_type": "markdown",
   "metadata": {},
   "source": [
    "## 필수2\n",
    "\n",
    "1. 클래스의 장점을 아는 대로 서술해보세요.\n",
    ">어플리케이션의 덩치가 커지면 클래스를 사용해서 구조화시키고, \n",
    "    서로간의 결합을 느슨하게 해서 버그 수정, 기능 유지 보수 개선 등을 용이하게 한다.\n",
    "    클래스는 같은 코드의 반복을 없애고, 상속을 이용하여 재활용함으로써 객체 지향 프로그래밍을 가능케 함.\n",
    "\n",
    "2. 클래스에서 상속을 해서 얻을 수 있는 장점을 아는 대로 서술해주세요. (강의3)\n",
    ">상속은 기존 클래스를 변경하지 않고 기능을 추가하거나 기존 기능을 변경하는 것이 가능하다\n",
    "\n",
    "\n",
    "3. 클래스에서 매개변수에 self가 있는 메소드와 없는 메소드의 차이는 무엇인지 서술해주세요.\n",
    ">self는 붕어빵(instance)을 찍어내면 붕어빵(instance)의 위치를 알려줌. 붕어빵을 찍을때마다 위치가 달라짐.  \n",
    "그런데 self가 없으면 붕어빵 틀(class 자체)에서 찾음.\n",
    "사실상 calss 자체에서 찾을 일은 없기때문에 항상 self를 붙여준다...\n",
    "\n",
    "4. 클래스와 인스턴스의 관계에 대해 서술해주세요.\n",
    ">클래스에 의해서 만들어진 객체를 인스턴스라고도 한다. "
   ]
  },
  {
   "cell_type": "markdown",
   "metadata": {},
   "source": [
    "## 필수3"
   ]
  },
  {
   "cell_type": "code",
   "execution_count": 39,
   "metadata": {
    "scrolled": false
   },
   "outputs": [
    {
     "name": "stdout",
     "output_type": "stream",
     "text": [
      "initialize success! jiwon, 28\n",
      "initialize success! mina, 20\n",
      "제 이름은 jiwon이고 나이는 28 입니다.\n",
      "제 이름은 mina이고 나이는 20 입니다.\n"
     ]
    }
   ],
   "source": [
    "## 필수3\n",
    "\n",
    "# 다음의 설명을 토대로 Class를 작성해주세요.\n",
    "\n",
    "# Person이라는 Class가 있습니다. \n",
    "# 해당 Class는  name과 age를 인자로 받아 name과 age를 프로퍼티로 가지는 인스턴스를 생성하도록 해줍니다. \n",
    "# 또한 인스턴스는 introduce라는 메소드를 통해 “제 이름은 name 이고 나이는 age 입니다.”라는 문자열을 출력할 수 있습니다.\n",
    "\n",
    "# 구현한 클래스를 기반으로 다음과 같은 결과를 얻을 수 있습니다.\n",
    "# person = Person(‘jiwon’, 28)\n",
    "# person.introduce()   # 제 이름은 jiwon이고 나이는 28 입니다.\n",
    "\n",
    "class Person:\n",
    "    def __init__(self, name, age):\n",
    "        self.name = name\n",
    "        self.age = age\n",
    "        print(\"initialize success! {}, {}\".format(self.name, self.age))\n",
    "    def introduce(self):\n",
    "        print(\"제 이름은 {}이고 나이는 {} 입니다.\".format(self.name, self.age))\n",
    "        \n",
    "person = Person(\"jiwon\", 28)\n",
    "person2 = Person(\"mina\", 20)\n",
    "person.introduce()\n",
    "person2.introduce()"
   ]
  },
  {
   "cell_type": "markdown",
   "metadata": {},
   "source": [
    "## 심화1"
   ]
  },
  {
   "cell_type": "code",
   "execution_count": 115,
   "metadata": {},
   "outputs": [
    {
     "ename": "IndentationError",
     "evalue": "expected an indented block (<ipython-input-115-ce006407ba7e>, line 14)",
     "output_type": "error",
     "traceback": [
      "\u001b[1;36m  File \u001b[1;32m\"<ipython-input-115-ce006407ba7e>\"\u001b[1;36m, line \u001b[1;32m14\u001b[0m\n\u001b[1;33m    self.parent_name = name\u001b[0m\n\u001b[1;37m       ^\u001b[0m\n\u001b[1;31mIndentationError\u001b[0m\u001b[1;31m:\u001b[0m expected an indented block\n"
     ]
    }
   ],
   "source": [
    "# 다음의 설명을 토대로 두가지 Class를 작성하여 상속을 구현해주세요.\n",
    "\n",
    "# Parent 라는 클래스와 Child라는 클래스가 있습니다.\n",
    "# Parent 클래스는 parent_name이라는 매개변수에 값을 받습니다. \n",
    "# Child 클래스는 Parent 클래스를 상속받으며, 추가로 name 매개변수에 값을 받아 인스턴스를 생성합니다.\n",
    "# Child 클래스에는 introduce라는 메소드가 있으며, ‘OOO는 OOO의 자식입니다.’ 라는 문자열을 출력합니다.\n",
    "\n",
    "# 구현한 클래스를 기반으로 다음과 같은 결과를 얻을 수 있습니다.\n",
    "# child = Child(‘jiwon’, ‘seho’)\n",
    "# child.introduce()   # seho는 jiwon의 자식입니다.\n",
    "\n",
    "class Parent:\n",
    "    def __init__(self, parent_name):\n",
    "    self.parent_name = name\n",
    "\n",
    "class Child(Parent):\n",
    "    def __init__(self, parent_name, name)\n",
    "    super().init(parent_name)\n",
    "    self.name=name\n",
    "    introduce: \"%self.name는 %self.parent_name의 자식입니다.\"\n",
    "        \n",
    "child=????\n",
    "\n",
    "    "
   ]
  },
  {
   "cell_type": "code",
   "execution_count": null,
   "metadata": {},
   "outputs": [],
   "source": []
  },
  {
   "cell_type": "code",
   "execution_count": null,
   "metadata": {},
   "outputs": [],
   "source": [
    "# #  클래스 안에 구현된 함수는 다른말로 메서드(Method)라고 부른다.\n",
    "# \"클래스명.메서드\" 형태로 호출할 때는 객체 a를 첫 번째 매개변수인 self에 꼭 전달해 주어야 한다.  \n",
    "# 반면에 다음처럼 \"객체.메서드\" 형태로 호출할 때는 self를 반드시 생략하여 호출해야 한다."
   ]
  },
  {
   "cell_type": "code",
   "execution_count": 31,
   "metadata": {},
   "outputs": [
    {
     "name": "stdout",
     "output_type": "stream",
     "text": [
      "Initialize success!\n",
      "{1, 2, 3} {2, 3, 4}\n",
      "{2, 3}\n"
     ]
    }
   ],
   "source": [
    "#데이터 자료형도 class임\n",
    "\n",
    "class TestSet:\n",
    "    def __init__(self, lst1, lst2):\n",
    "        self.set1 = set(lst1)\n",
    "        self.set2 = set(lst2)\n",
    "        print(\"Initialize success!\")\n",
    "    def intersection(self):\n",
    "        return self.set1 & self.set2\n",
    "        \n",
    "        \n",
    "a = TestSet([1, 2, 3], [2,3,4]) #a = set([1, 2, 3]) # TestSet이라는 클래스를 a라고 인스턴스화한다.\n",
    "print(a.set1, a.set2)\n",
    "print(a.intersection())"
   ]
  },
  {
   "cell_type": "code",
   "execution_count": 17,
   "metadata": {},
   "outputs": [
    {
     "data": {
      "text/plain": [
       "{1, 2, 3}"
      ]
     },
     "execution_count": 17,
     "metadata": {},
     "output_type": "execute_result"
    }
   ],
   "source": [
    "a.value\n",
    "a."
   ]
  },
  {
   "cell_type": "code",
   "execution_count": 32,
   "metadata": {},
   "outputs": [
    {
     "name": "stdout",
     "output_type": "stream",
     "text": [
      "Initialize success!\n"
     ]
    }
   ],
   "source": [
    "b= TestSet([2,4,10,13],[3,4])"
   ]
  },
  {
   "cell_type": "code",
   "execution_count": 24,
   "metadata": {},
   "outputs": [
    {
     "data": {
      "text/plain": [
       "{2, 4, 10, 13}"
      ]
     },
     "execution_count": 24,
     "metadata": {},
     "output_type": "execute_result"
    }
   ],
   "source": [
    "b.set1"
   ]
  },
  {
   "cell_type": "code",
   "execution_count": 25,
   "metadata": {},
   "outputs": [
    {
     "data": {
      "text/plain": [
       "{3, 4}"
      ]
     },
     "execution_count": 25,
     "metadata": {},
     "output_type": "execute_result"
    }
   ],
   "source": [
    "b.set2"
   ]
  },
  {
   "cell_type": "code",
   "execution_count": 33,
   "metadata": {},
   "outputs": [
    {
     "data": {
      "text/plain": [
       "{4}"
      ]
     },
     "execution_count": 33,
     "metadata": {},
     "output_type": "execute_result"
    }
   ],
   "source": [
    "b.intersection()"
   ]
  },
  {
   "cell_type": "markdown",
   "metadata": {},
   "source": [
    "## Day15 함수 및 람다 (lambda)"
   ]
  },
  {
   "cell_type": "code",
   "execution_count": 3,
   "metadata": {},
   "outputs": [],
   "source": [
    "# 반복, 중복되는 내용에 함수를 부여하면 코드의 중복을 없앨수있다."
   ]
  },
  {
   "cell_type": "code",
   "execution_count": null,
   "metadata": {},
   "outputs": [],
   "source": [
    "# 함수 정의:\n",
    "# def 함수명(parameter):\n",
    "#     code\n",
    "\n",
    "# 함수 위치 중요 (윗부분에 선언되어 있어야 밑에서 사용 가능)"
   ]
  },
  {
   "cell_type": "code",
   "execution_count": 4,
   "metadata": {},
   "outputs": [
    {
     "name": "stdout",
     "output_type": "stream",
     "text": [
      "hello python\n"
     ]
    }
   ],
   "source": [
    "def hello(world):\n",
    "    print(\"hello\", world)   #문자를 붙여서 출력하는 함수. 리턴값이 없음\n",
    "    \n",
    "hello(\"python\")"
   ]
  },
  {
   "cell_type": "code",
   "execution_count": 5,
   "metadata": {},
   "outputs": [
    {
     "name": "stdout",
     "output_type": "stream",
     "text": [
      "helloPython!!!\n"
     ]
    }
   ],
   "source": [
    "def hello_return(world):\n",
    "    val = \"hello\" + str(world)\n",
    "    return val                          #문자열을 리턴해주는 함수\n",
    "\n",
    "str = hello_return(\"Python!!!\")\n",
    "print(str)"
   ]
  },
  {
   "cell_type": "code",
   "execution_count": 6,
   "metadata": {},
   "outputs": [
    {
     "name": "stdout",
     "output_type": "stream",
     "text": [
      "10000 20000 30000\n"
     ]
    }
   ],
   "source": [
    "# 다중리턴\n",
    "\n",
    "def func_mul(x):\n",
    "    y1 = x*100\n",
    "    y2 = x*200\n",
    "    y3 = x*300\n",
    "    return y1, y2, y3\n",
    "\n",
    "val1, val2, val3 = func_mul(100)\n",
    "print(val1, val2, val3)"
   ]
  },
  {
   "cell_type": "code",
   "execution_count": 9,
   "metadata": {},
   "outputs": [
    {
     "name": "stdout",
     "output_type": "stream",
     "text": [
      "('kim', 'park')\n"
     ]
    }
   ],
   "source": [
    "def args_func(*args):\n",
    "    print(args)                     \n",
    "args_func('kim','park')\n",
    "\n",
    "#매개변수가 몇개나올지 모를때, 매개변수가 넘어오는 것에 따라 함수작동을 달리할때. *args를 씀\n",
    "#튜플형태로 skdha"
   ]
  },
  {
   "cell_type": "code",
   "execution_count": 10,
   "metadata": {},
   "outputs": [
    {
     "name": "stdout",
     "output_type": "stream",
     "text": [
      "{'name1': 'kim', 'name2': 'park', 'name3': 'lee'}\n"
     ]
    }
   ],
   "source": [
    "def kwargs_func(**kwargs):\n",
    "    print(kwargs)                     \n",
    "kwargs_func(name1='kim', name2='park', name3='lee')\n",
    "\n"
   ]
  },
  {
   "cell_type": "code",
   "execution_count": 11,
   "metadata": {},
   "outputs": [
    {
     "name": "stdout",
     "output_type": "stream",
     "text": [
      "in func\n",
      "20000\n"
     ]
    }
   ],
   "source": [
    "#중첩함수(클로저)\n",
    "\n",
    "def nested_func(num):\n",
    "    def func_in_func(num):\n",
    "        print(num)\n",
    "    print(\"in func\")\n",
    "    func_in_func(num + 10000)\n",
    "nested_func(10000)"
   ]
  },
  {
   "cell_type": "code",
   "execution_count": null,
   "metadata": {},
   "outputs": [],
   "source": [
    "# # 람다식: 메모리 절약, 가독성 향상, 코드 간결\n",
    "# 함수는 객체 생성 -> 리소스(메모리 할당)\n",
    "# 람다는 즉시 실행 (heap 초기화) -> 메모리 초기화\n",
    "\n",
    "# #일반적 함수 -> 변수 할당"
   ]
  },
  {
   "cell_type": "code",
   "execution_count": null,
   "metadata": {},
   "outputs": [],
   "source": []
  },
  {
   "cell_type": "code",
   "execution_count": null,
   "metadata": {},
   "outputs": [],
   "source": []
  },
  {
   "cell_type": "code",
   "execution_count": null,
   "metadata": {},
   "outputs": [],
   "source": []
  },
  {
   "cell_type": "code",
   "execution_count": null,
   "metadata": {},
   "outputs": [],
   "source": []
  },
  {
   "cell_type": "markdown",
   "metadata": {},
   "source": [
    "## Day16 Class"
   ]
  },
  {
   "cell_type": "code",
   "execution_count": null,
   "metadata": {},
   "outputs": [],
   "source": [
    "클래스: 어플리케이션의 덩치가 커지면 클래스를 사용해서 구조화시키고, \n",
    "    서로간의 결합을 느슨하게 해서 버그 수정, 기능 유지 보수 개선 등을 용이하게 해야 함.\n",
    "    클래스는 같은 코드의 반복을 없애고, 상속을 이용하여 재활용함으로써 객체 지향 프로그래밍을 가능케 함."
   ]
  },
  {
   "cell_type": "markdown",
   "metadata": {},
   "source": [
    "class 선언\n",
    "\n",
    "class 클래스명 :      <0-----------클래스명은 capitalize...두단어면 두번쨰단어도 capitalize\n",
    "    함수\n",
    "    함수\n",
    "    함수"
   ]
  },
  {
   "cell_type": "code",
   "execution_count": 58,
   "metadata": {},
   "outputs": [
    {
     "name": "stdout",
     "output_type": "stream",
     "text": [
      "Name: Kim\n",
      "Kim\n",
      "Name: Park\n",
      "2752912951112\n",
      "{'name': 'Park'}\n"
     ]
    }
   ],
   "source": [
    "class UserInfo:\n",
    "    # 클래스는 속성과 메소드로 구성됨\n",
    "    # 속성(이름, 몸무게, 키, 전화번호, 나이), 메소드(걷다, 뛰다, 움직이다.) \n",
    "    #클래스변수는 직접 사용 가능, 인스턴스보다 먼저 생성\n",
    "    # 인스턴스 변수: 인스턴트마다 독립적으로 존재\n",
    "    def __init__(self, name):\n",
    "        self.name = name    #----->윗줄 함수의 name을 받아서 내 영역 self.name에 저장을 함.\n",
    "    def user_info_p(self):\n",
    "        print(\"Name:\", self.name)\n",
    "        \n",
    "user1 = UserInfo(\"Kim\")   #----> 위에 클래스만 선언한것은 붕어빵 틀을 만든 것이고, 이제 유저를 정의해야 붕어빵 반죽을 부어서 붕어빵을 만드는 것.\n",
    "user1.user_info_p()       #--->인스턴스화된 메소드\n",
    "print(user1.name)\n",
    "\n",
    "user2 = UserInfo(\"Park\")\n",
    "user2.user_info_p()\n",
    "\n",
    "#네임스페이스: 객체를 인스턴스화 할 때 저장된 공간.\n",
    "print(id(user1))  #<------을 통하여 user1의 네임스페이스 확인 가능\n",
    "print(user2.__dict__)  #<----을 통하여 네임스페이스가 어떻게 구성되는지 확인 가능"
   ]
  },
  {
   "cell_type": "code",
   "execution_count": 69,
   "metadata": {},
   "outputs": [
    {
     "name": "stdout",
     "output_type": "stream",
     "text": [
      "function1 called!\n"
     ]
    },
    {
     "ename": "TypeError",
     "evalue": "function2() takes 0 positional arguments but 1 was given",
     "output_type": "error",
     "traceback": [
      "\u001b[1;31m---------------------------------------------------------------------------\u001b[0m",
      "\u001b[1;31mTypeError\u001b[0m                                 Traceback (most recent call last)",
      "\u001b[1;32m<ipython-input-69-ed8416a14eff>\u001b[0m in \u001b[0;36m<module>\u001b[1;34m\u001b[0m\n\u001b[0;32m     10\u001b[0m \u001b[0mself_test\u001b[0m \u001b[1;33m=\u001b[0m \u001b[0mSelfTest\u001b[0m\u001b[1;33m(\u001b[0m\u001b[1;33m)\u001b[0m   \u001b[1;31m#(클래스 호출)\u001b[0m\u001b[1;33m\u001b[0m\u001b[1;33m\u001b[0m\u001b[0m\n\u001b[0;32m     11\u001b[0m \u001b[0mself_test\u001b[0m\u001b[1;33m.\u001b[0m\u001b[0mfunction1\u001b[0m\u001b[1;33m(\u001b[0m\u001b[1;33m)\u001b[0m    \u001b[1;31m#인스턴스메소드 ---------->클래스함수에 self인자가 없으면 호출 안됨\u001b[0m\u001b[1;33m\u001b[0m\u001b[1;33m\u001b[0m\u001b[0m\n\u001b[1;32m---> 12\u001b[1;33m \u001b[0mSelfTest\u001b[0m\u001b[1;33m.\u001b[0m\u001b[0mfunction2\u001b[0m\u001b[1;33m(\u001b[0m\u001b[0mself_test\u001b[0m\u001b[1;33m)\u001b[0m\u001b[1;33m\u001b[0m\u001b[1;33m\u001b[0m\u001b[0m\n\u001b[0m",
      "\u001b[1;31mTypeError\u001b[0m: function2() takes 0 positional arguments but 1 was given"
     ]
    }
   ],
   "source": [
    "#self의 이해\n",
    "\n",
    "class SelfTest:\n",
    "    def function1():\n",
    "        print('function1 called!')\n",
    "    def function2():\n",
    "        print('function1 called!')\n",
    "        \n",
    "\n",
    "self_test = SelfTest()   #(클래스 호출)\n",
    "self_test.function1()    #인스턴스메소드 ---------->클래스함수에 self인자가 없으면 호출 안됨. \n",
    "SelfTest.function2(self_test)     #~~~~~~~~~~> 그냥 클래스 자체를 호출하면 가능함.\n"
   ]
  },
  {
   "cell_type": "code",
   "execution_count": 78,
   "metadata": {
    "scrolled": true
   },
   "outputs": [
    {
     "name": "stdout",
     "output_type": "stream",
     "text": [
      "{'name': 'Kim'}\n",
      "{'name': 'Park'}\n",
      "{'name': 'Lee'}\n",
      "{'__module__': '__main__', 'stock_num': 0, '__init__': <function Warehouse.__init__ at 0x00000280F6DCC378>, '__del__': <function Warehouse.__del__ at 0x00000280F6DCCEA0>, '__dict__': <attribute '__dict__' of 'Warehouse' objects>, '__weakref__': <attribute '__weakref__' of 'Warehouse' objects>, '__doc__': None}\n",
      "Kim\n",
      "Park\n",
      "0\n"
     ]
    }
   ],
   "source": [
    "class Warehouse:\n",
    "    stock_num = 0       #------------>self가 없기때문에 여러 인스턴스에서 공유\n",
    "    def __init__(self, name):\n",
    "        self.name = name\n",
    "        Warehouse.stock_num += 1   #--------->창고가 생길때마다 숫자를 직접 1씩 증가시켜줌(공통이니까)\n",
    "    def __del__(self):\n",
    "        Warehouse.stock_num -= 1\n",
    "\n",
    "user1 = Warehouse('Kim')\n",
    "user2 = Warehouse('Park')\n",
    "user3 = Warehouse('Lee')\n",
    "\n",
    "print(user1.__dict__)\n",
    "print(user2.__dict__)\n",
    "print(user3.__dict__)\n",
    "\n",
    "print(Warehouse.__dict__)\n",
    "\n",
    "print(user1.name)\n",
    "print(user2.name)\n",
    "\n",
    "print(user1.stock_num)"
   ]
  },
  {
   "cell_type": "markdown",
   "metadata": {},
   "source": [
    "### 상속, 다중상속\n",
    "\n",
    "슈퍼클래스(부모) 및 서브클래스(자식) -> 모든 속성과 메소드 사용 가능\n",
    "상속을 통해서 코딩을 하면 코드 재사용 가능, 중복 최소화 -> 가독성 유지보수 좋아짐\n",
    "\n",
    "선언:\n",
    "\n",
    "class 상속클래스명(부모클래스명)"
   ]
  },
  {
   "cell_type": "markdown",
   "metadata": {},
   "source": []
  },
  {
   "cell_type": "code",
   "execution_count": 106,
   "metadata": {
    "scrolled": false
   },
   "outputs": [
    {
     "name": "stdout",
     "output_type": "stream",
     "text": [
      "red\n",
      "sedan\n",
      "520d\n",
      "Car Class \"Show Method!\"\n",
      "Your Car Name : 520d\n",
      "{'tp': 'sedan', 'color': 'red', 'car_name': '520d'}\n"
     ]
    }
   ],
   "source": [
    "class Car:\n",
    "    \"\"\"Parent Class\"\"\"     #---------------> 어떤 클래스인지 주석 설명\n",
    "    def __init__(self, tp, color):\n",
    "        self.tp = tp\n",
    "        self.color = color\n",
    "    def show(self):\n",
    "        return 'Car Class \"Show Method!\"'\n",
    "    \n",
    "class BmwCar(Car):       #-----------------> class 상속클래스명(부모클래스명) :\n",
    "    \"\"\"Sub Class\"\"\"\n",
    "    def __init__(self, car_name, tp, color):\n",
    "        super().__init__(tp, color)   #---------------> tp랑 color는 부모에 있는거니까, 부모의 init 메소드를 호출(상속, 재사용). \n",
    "        self.car_name = car_name      #--------------->차이름은 내가 가지는거니까 새로 부여\n",
    "    \n",
    "    def show_model(self) -> None:\n",
    "        return \"Your Car Name : %s\" % self.car_name\n",
    "    \n",
    "    \n",
    "class BenzCar(Car):\n",
    "    \"\"\"Sub Class\"\"\"\n",
    "    def __init__(self, car_name, tp, color):\n",
    "        super().__init__(tp, color)\n",
    "        self.car_name = car_name\n",
    "    \n",
    "    def show_model(self) -> None:\n",
    "        return \"Your Car Name : %s\" % self.car_name\n",
    "    def show(self):       #----->부모에게도 있는 같은 이름의 메소드이지만 자식에게 다르게 선언 (overriding)\n",
    "        #print(super().show())   #----->같은이름의 부모클래스 매소드도 같이 호출하고 싶으면 옆과 같이 쓰면 됨\n",
    "        return 'Car Info  %s %s %s'% (self.car_name, self.tp, self.color)\n",
    "        \n",
    "    \n",
    "model1 =BmwCar('520d', 'sedan', 'red')\n",
    "print(model1.color)  #color값은 부모클래스에서 상속받은것\n",
    "print(model1.tp)     #tp 값도 부모클래스에서 받은것\n",
    "print(model1.car_name)   #car name은 자식클래스에서 만든것\n",
    "print(model1.show())      #부모클래스인데 자동호출됨. \n",
    "print(model1.show_model())\n",
    "print(model1.__dict__)"
   ]
  },
  {
   "cell_type": "code",
   "execution_count": 107,
   "metadata": {},
   "outputs": [
    {
     "name": "stdout",
     "output_type": "stream",
     "text": [
      "Car Class \"Show Method!\"\n",
      "Car Info  220d suv black\n"
     ]
    }
   ],
   "source": [
    "# #Method Overriding(오버라이딩) - 부모에 있는걸 모두 사용하는게 아니라\n",
    "# 내 입맛에 맞게 필요한 것만 사용. 메소드 이름은 똑같이 적용하더라도 내 것에 메소드를 다르게 재구현하면\n",
    "# 그 메소드를 불렀을때 부모의 것이 아닌 자식의 것이 호출됨\n",
    "\n",
    "model2 = BenzCar(\"220d\", 'suv', \"black\")\n",
    "print(model2.show())   #------->부모클래스에도 똑같은 이름의 show 메소드가 있지만, 부모가 아닌 자식의 show 메소드를 호출했음."
   ]
  },
  {
   "cell_type": "code",
   "execution_count": 108,
   "metadata": {},
   "outputs": [
    {
     "name": "stdout",
     "output_type": "stream",
     "text": [
      "Car Class \"Show Method!\"\n",
      "Car Info  350s sedan silver\n"
     ]
    }
   ],
   "source": [
    "model3= BenzCar(\"350s\", 'sedan', 'silver')\n",
    "print(model3.show())"
   ]
  },
  {
   "cell_type": "code",
   "execution_count": 109,
   "metadata": {},
   "outputs": [
    {
     "name": "stdout",
     "output_type": "stream",
     "text": [
      "[<class '__main__.BmwCar'>, <class '__main__.Car'>, <class 'object'>]\n"
     ]
    }
   ],
   "source": [
    "#Inheriance Info - 상속정보를 리스트형태로 반환해줌\n",
    "print(BmwCar.mro())  #이렇게 쓰면 해당 클래스의 상속관계를 알수있음"
   ]
  },
  {
   "cell_type": "code",
   "execution_count": 111,
   "metadata": {},
   "outputs": [
    {
     "name": "stdout",
     "output_type": "stream",
     "text": [
      "[<class '__main__.M'>, <class '__main__.B'>, <class '__main__.A'>, <class '__main__.X'>, <class '__main__.Y'>, <class '__main__.Z'>, <class 'object'>]\n"
     ]
    }
   ],
   "source": [
    "#다중상속\n",
    "class X(object):\n",
    "    pass\n",
    "\n",
    "class Y():\n",
    "    pass\n",
    "\n",
    "class Z():\n",
    "    pass\n",
    "\n",
    "class A(X,Y):  #---->A는 X와 Y를 상속받겠다\n",
    "    pass\n",
    "\n",
    "class B(Y,Z):\n",
    "    pass\n",
    "\n",
    "class M(B,A,Z):\n",
    "    pass\n",
    "\n",
    "print(M.mro())  #----->클래스 M은 위에나온 모든 클래스를 상속받았음을 알수있음.\n",
    "\n",
    "#너무나 복잡한 다중상속은 코드를 복잡하게함\n",
    "#보통 2개정도 상속받음"
   ]
  }
 ],
 "metadata": {
  "kernelspec": {
   "display_name": "Python 3",
   "language": "python",
   "name": "python3"
  },
  "language_info": {
   "codemirror_mode": {
    "name": "ipython",
    "version": 3
   },
   "file_extension": ".py",
   "mimetype": "text/x-python",
   "name": "python",
   "nbconvert_exporter": "python",
   "pygments_lexer": "ipython3",
   "version": "3.7.3"
  }
 },
 "nbformat": 4,
 "nbformat_minor": 2
}
