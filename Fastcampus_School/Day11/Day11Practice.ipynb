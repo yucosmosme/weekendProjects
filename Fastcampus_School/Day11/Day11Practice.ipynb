{
 "cells": [
  {
   "cell_type": "code",
   "execution_count": 79,
   "metadata": {},
   "outputs": [
    {
     "name": "stdout",
     "output_type": "stream",
     "text": [
      "12 4\n"
     ]
    }
   ],
   "source": [
    "# [심화1] 1. divmod 함수를 이용하여 100을 8로 나눈 몫을 \n",
    "# 변수 m, 나머지를 변수 n에 할당하는 코드를 작성해주세요.\n",
    "n,m = divmod(100,8)\n",
    "print(n,m)"
   ]
  },
  {
   "cell_type": "code",
   "execution_count": 60,
   "metadata": {},
   "outputs": [
    {
     "data": {
      "text/plain": [
       "'nohtyp'"
      ]
     },
     "execution_count": 60,
     "metadata": {},
     "output_type": "execute_result"
    }
   ],
   "source": [
    "# [심화1] 2. 문자열 슬라이싱을 통해 \"python\"이라는 문자열을 거꾸로 뒤집는 print문을 작성해주세요.\n",
    "a=\"python\"\n",
    "a=a[::-1]\n",
    "a"
   ]
  },
  {
   "cell_type": "code",
   "execution_count": 64,
   "metadata": {},
   "outputs": [
    {
     "name": "stdout",
     "output_type": "stream",
     "text": [
      "el ol\n"
     ]
    }
   ],
   "source": [
    "# [심화1] 3. 문자열 슬라이싱을 통해 \"hello world\"라는 문자열의 짝수번째 문자만 출력되도록 print문을 작성해주세요.(프로그래밍에서 인덱스는 0부터 시작합니다. 1번째 인덱스부터 계산해주세요.  결과값: 'el ol')\n",
    "a=\"hello world\"\n",
    "a=a[1::2]\n",
    "print(a)"
   ]
  },
  {
   "cell_type": "code",
   "execution_count": 65,
   "metadata": {},
   "outputs": [
    {
     "name": "stdout",
     "output_type": "stream",
     "text": [
      "Hello python\n"
     ]
    }
   ],
   "source": [
    "# [심화2] 1. \"hello python\"이라는 문자열의 첫글자를 대문자로 바꿔 출력이 되도록 print문을 작성해주세요.\n",
    "a=\"hello python\"\n",
    "print(a.capitalize())"
   ]
  },
  {
   "cell_type": "code",
   "execution_count": 66,
   "metadata": {},
   "outputs": [
    {
     "name": "stdout",
     "output_type": "stream",
     "text": [
      "cool man\n"
     ]
    }
   ],
   "source": [
    "# [심화2] 2. \"nice man\"이라는 문자열을 \"cool man\"으로 바꾸어(대체되어) 출력이 되도록하는 print문을 작성해주세요.\n",
    "a=\"nice man\"\n",
    "print(a.replace('nice','cool'))"
   ]
  },
  {
   "cell_type": "code",
   "execution_count": 83,
   "metadata": {},
   "outputs": [
    {
     "name": "stdout",
     "output_type": "stream",
     "text": [
      "1220\n"
     ]
    }
   ],
   "source": [
    "#  [심화2] 3. 주민번호가 담긴 person이라는 변수에서 \n",
    "# 이 사람이 태어난 달과 날을 출력하는 print문을 작성해보세요. \n",
    "# person = ‘881220-1234567’  \n",
    "# ( 881220-1234567 이라고 하면 1220이 출력되면 됩니다. )\n",
    "\n",
    "person = '881220-1234567'\n",
    "print(person[2:6])"
   ]
  },
  {
   "cell_type": "code",
   "execution_count": 75,
   "metadata": {},
   "outputs": [
    {
     "data": {
      "text/plain": [
       "3"
      ]
     },
     "execution_count": 75,
     "metadata": {},
     "output_type": "execute_result"
    }
   ],
   "source": [
    "# [심화3]\" python is a good language   \"라는 문자열이 있습니다. \n",
    "# 이를 good이라는 변수에 담은 뒤 아래와 같은 조건을 만족하는 print문을 작성해주세요.\n",
    "# ( 이전 슬라이드의 내용을 참고하여 문제를 풀어주세요. )\n",
    "\n",
    "# a의 개수가 몇개인지 출력하는 print문을 작성해주세요.\n",
    "\n",
    "good=\" python is a good language   \"\n",
    "good.count('a')"
   ]
  },
  {
   "cell_type": "code",
   "execution_count": 74,
   "metadata": {},
   "outputs": [
    {
     "data": {
      "text/plain": [
       "'python is a good language'"
      ]
     },
     "execution_count": 74,
     "metadata": {},
     "output_type": "execute_result"
    }
   ],
   "source": [
    "# [심화3]\" python is a good language   \"라는 문자열이 있습니다. \n",
    "# 이를 good이라는 변수에 담은 뒤 아래와 같은 조건을 만족하는 print문을 작성해주세요.\n",
    "\n",
    "# 위 문자열의 양쪽 공백을 없애 출력하는 print문을 작성해주세요.\n",
    "\n",
    "good=\" python is a good language   \"\n",
    "good.strip()"
   ]
  },
  {
   "cell_type": "code",
   "execution_count": 73,
   "metadata": {},
   "outputs": [
    {
     "data": {
      "text/plain": [
       "' PYTHON IS A GOOD LANGUAGE   '"
      ]
     },
     "execution_count": 73,
     "metadata": {},
     "output_type": "execute_result"
    }
   ],
   "source": [
    "# [심화3]\" python is a good language   \"라는 문자열이 있습니다. \n",
    "# 이를 good이라는 변수에 담은 뒤 아래와 같은 조건을 만족하는 print문을 작성해주세요.\n",
    "# 위 문자열을 모두 대문자로 바꾼 문자열을 출력하는 print문을 작성해주세요.\n",
    "\n",
    "good=\" python is a good language   \"\n",
    "good.upper()"
   ]
  },
  {
   "cell_type": "code",
   "execution_count": 72,
   "metadata": {
    "scrolled": true
   },
   "outputs": [
    {
     "data": {
      "text/plain": [
       "16"
      ]
     },
     "execution_count": 72,
     "metadata": {},
     "output_type": "execute_result"
    }
   ],
   "source": [
    "# [심화3]\" python is a good language   \"라는 문자열이 있습니다. \n",
    "# 이를 good이라는 변수에 담은 뒤 아래와 같은 조건을 만족하는 print문을 작성해주세요.\n",
    "# 문자 d가 어느 위치에 있는지를 출력하는 print문을 작성해주세요.\n",
    "\n",
    "good=\" python is a good language   \"\n",
    "good.find('d')"
   ]
  },
  {
   "cell_type": "code",
   "execution_count": 54,
   "metadata": {},
   "outputs": [
    {
     "name": "stdout",
     "output_type": "stream",
     "text": [
      "fast\n"
     ]
    }
   ],
   "source": [
    "print(\"fastcampus\"[0:4])"
   ]
  },
  {
   "cell_type": "code",
   "execution_count": 32,
   "metadata": {},
   "outputs": [
    {
     "name": "stdout",
     "output_type": "stream",
     "text": [
      "'I like \"apples\"'\n"
     ]
    }
   ],
   "source": [
    "escape = \"'I like \\\"apples\\\"'\"\n",
    "print(escape)"
   ]
  },
  {
   "cell_type": "code",
   "execution_count": 37,
   "metadata": {},
   "outputs": [
    {
     "name": "stdout",
     "output_type": "stream",
     "text": [
      "'\\\\ ^_^ \\\\'\n"
     ]
    }
   ],
   "source": [
    "raw_r1= r\"'\\\\ ^_^ \\\\'\"\n",
    "print(raw_r1)"
   ]
  },
  {
   "cell_type": "code",
   "execution_count": 47,
   "metadata": {},
   "outputs": [
    {
     "name": "stdout",
     "output_type": "stream",
     "text": [
      "\n",
      "나는\n",
      "고양이를\n",
      "좋아한다.\n",
      "\n"
     ]
    }
   ],
   "source": [
    "#문자열 나누기 ***\n",
    "a = \"\"\"\n",
    "나는\n",
    "고양이를\n",
    "좋아한다.\n",
    "\"\"\"\n",
    "print(a)"
   ]
  },
  {
   "cell_type": "code",
   "execution_count": 49,
   "metadata": {},
   "outputs": [
    {
     "name": "stdout",
     "output_type": "stream",
     "text": [
      "****************************************************************************************************\n"
     ]
    }
   ],
   "source": [
    "#반복 출력\n",
    "print(\"*\"*100)"
   ]
  }
 ],
 "metadata": {
  "kernelspec": {
   "display_name": "Python 3",
   "language": "python",
   "name": "python3"
  },
  "language_info": {
   "codemirror_mode": {
    "name": "ipython",
    "version": 3
   },
   "file_extension": ".py",
   "mimetype": "text/x-python",
   "name": "python",
   "nbconvert_exporter": "python",
   "pygments_lexer": "ipython3",
   "version": "3.7.3"
  }
 },
 "nbformat": 4,
 "nbformat_minor": 2
}
