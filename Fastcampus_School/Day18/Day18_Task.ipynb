{
 "cells": [
  {
   "cell_type": "markdown",
   "metadata": {},
   "source": [
    "### 필수1\n",
    "\n",
    "1. 프로그래밍에서 예외처리를 하는 이유는 무엇인지 서술해주세요.\n",
    ">프로그래밍을 할 때에 항상 예상치 못한 에러가 날 수 있는데, \n",
    "이 에러를 예외처리하여 프로그램을 제대로 작동하게 하고 에러를 수정할 수 있게 해줌.\n",
    "\n",
    "2. 강의에 나온 9가지 에러와 각 에러에 대한 내용을 서술해주세요.\n",
    ">- SyntaxError : 문법을 잘못 쓴 경우의 에러. \n",
    ">- NameError: 참조변수가 없는 에러. ex. a=1, b=10이라고 정의했는데 print(c)를 한 경우(c는 정의하지 않음)  \n",
    ">- ZeroDivisionError : 0으로 나누기 - 문법적으로는 에러가 없지만 실행시키면 에러가 발생하는 런타임에러. 0으로 나누는 것을 불가하기 때문.\n",
    ">- IndexError : 인덱스 범위 오버 ex. x=[10,20,30]으로 세개의 인덱스를 주고, print(x[3])이라고 네번째 인덱스 호출\n",
    ">- KeyError : dictionary에서 없는 key값을 호출\n",
    ">- AttributeError : 모듈, 클래스에 있는 잘못된 속성 사용  \n",
    ">- ValueError : 참조값이 없을 때 발생 x=[1,4,5]인데 x.remove(10) - 10을 지운다고 하니 에러  \n",
    ">- FileNotFoundError : 외부 파일 처리할떄 에러. f=open('test.txt','r') 실행할때 file not found  \n",
    ">- TypeError : x=[1,2], y=(1,2) > print(x+y) 하면 list와 tuple은 결합할 수 없음. -> 형변환시켜야됨  \n",
    "\n",
    "\n",
    "3. csv에 대해 서술해주세요.\n",
    ">CSV란 Comma-separated values의 약자로서 CSV 파일은 각 라인의 컬럼들이 콤마로 분리된 텍스트 파일 포맷이다.   \n",
    "가장 간단한 형태의 CSV 파일은 문자열을 콤마로 Split 하여 처리하면 되지만, 간혹 컬럼 데이타에 콤마가 있을 경우 이중인용부호로 감싸서 데이타 내의 콤마를 Escape하기 (예: \"Lee, Alex\") 때문에, 파이썬에 내장된 csv 모듈을 사용하여 .csv 파일을 처리하는 것이 좋다.\n"
   ]
  },
  {
   "cell_type": "code",
   "execution_count": 9,
   "metadata": {},
   "outputs": [
    {
     "name": "stdout",
     "output_type": "stream",
     "text": [
      "ValueError 에러가 발생했습니다!\n"
     ]
    }
   ],
   "source": [
    "# 필수2-1\n",
    "# 다음 코드가 발생시킬 ValueError 에러를 잡아‘ValueError 에러가 발생했습니다!’ \n",
    "# 라는 문자열을 출력하는 코드를 작성해주세요.\n",
    "\n",
    "names = ['Kim', 'Lee', 'Park']\n",
    "try:\n",
    "    z = 'Zoe'\n",
    "    x = names.index(z)\n",
    "    print('{} Found it! in name'.format(z, x + 1))\n",
    "except ValueError : \n",
    "    print ('ValueError 에러가 발생했습니다!')\n"
   ]
  },
  {
   "cell_type": "code",
   "execution_count": 19,
   "metadata": {},
   "outputs": [
    {
     "name": "stdout",
     "output_type": "stream",
     "text": [
      "에러가 발생했습니다!\n",
      "저는 무조건 출력됩니다.\n"
     ]
    }
   ],
   "source": [
    "# 필수2-2\n",
    "# 아래 요구사항을 모두 충족하는 예외처리 코드를 작성해주세요.\n",
    "# IndexError가 발생한다면 ‘인덱스 에러가 발생했습니다.’를 출력합니다.\n",
    "# 그 외의 나머지 에러가 발생한다면 ‘에러가 발생했습니다!’를 출력합니다.\n",
    "# try 문 내에서 에러가 나지 않았을 때 ‘에러가 발생하지 않았습니다’를 출력합니다.\n",
    "# 에러가 발생하든 발생하지 않든 ‘저는 무조건 출력됩니다.’를 출력합니다.\n",
    "\n",
    "names = ['Kim', 'Lee', 'Park']\n",
    "try:\n",
    "    z = 'Zoe'\n",
    "    x = names.index(z)\n",
    "    print('{} Found it! in name'.format(z, x + 1))\n",
    "except IndexError :\n",
    "    print('인덱스 에러가 발생했습니다.')\n",
    "except Exception :\n",
    "    print('에러가 발생했습니다!')\n",
    "else :\n",
    "    print ('에러가 발생하지 않았습니다')\n",
    "finally:\n",
    "    print ('저는 무조건 출력됩니다.')\n",
    "    \n"
   ]
  },
  {
   "cell_type": "code",
   "execution_count": 23,
   "metadata": {},
   "outputs": [
    {
     "name": "stdout",
     "output_type": "stream",
     "text": [
      "['1', '김정수', '2017-01-19 11:30:00', '25']\n",
      "['2', '박민구', '2017-02-07 10:22:00', '35']\n",
      "['3', '정순미', '2017-01-22 09:10:00', '33']\n",
      "['4', '김정현', '2017-02-22 14:09:00', '45']\n",
      "['5', '홍미진', '2017-04-01 18:00:00', '17']\n",
      "['6', '김순철', '2017-05-14 22:33:07', '22']\n",
      "['7', '이동철', '2017-03-01 23:44:45', '27']\n",
      "['8', '박지숙', '2017-01-11 06:04:18', '30']\n",
      "['9', '김은미', '2017-02-08 07:44:33', '51']\n",
      "['10', '장혁철', '2017-12-01 13:01:11', '16']\n"
     ]
    }
   ],
   "source": [
    "# 필수3-1\n",
    "# sample.csv의 데이터를 읽어와서 header를 제외하고 출력시키는 코드를 작성해주세요.\n",
    "\n",
    "import csv\n",
    "with open ('./sample1.csv','r') as f:\n",
    "    reader = csv.reader(f)\n",
    "    next(reader)\n",
    "    \n",
    "    for c in reader:\n",
    "        print(c)"
   ]
  },
  {
   "cell_type": "code",
   "execution_count": 32,
   "metadata": {
    "scrolled": true
   },
   "outputs": [
    {
     "name": "stdout",
     "output_type": "stream",
     "text": [
      "  Sap Co.      대리점 영업사원       전월       금월  TEAM  총 판매수량\n",
      "0  KI1316  경기수원대리점  이기정  1720000  2952000     1     123\n",
      "1  KI1451  충청홍성대리점  정미진  4080000  2706000     2     220\n",
      "2  KI1534  경기화성대리점  경인선   600000  2214000     1     320\n",
      "3  KI1636  강원속초대리점  이동권  3720000  2870000     3     110\n",
      "4  KI1735  경기안양대리점  강준석  4800000  2296000     1     134\n",
      "\n",
      "   Sap Co.       대리점 영업사원       전월       금월  TEAM  총 판매수량\n",
      "15  KI2870  경기구리시대리점  박진형  6000000  3400000     2     143\n",
      "16  KI2910   강원춘천대리점  김은향  4800000  4896000     1     176\n",
      "17  KI3030   강원영동대리점  전수창  4560000  3128000     2      98\n",
      "18  KI3131   경기하남대리점  김민정  2750000  7268000     3     293\n",
      "19  KI3252   강원포천대리점  서가은  2420000  4740000     4     240\n",
      "\n",
      "(20, 7)\n"
     ]
    }
   ],
   "source": [
    "# 필수3-2 강의에서 설치한 pandas 를 이용해 sample.xlsx를 읽어 상위 데이터, 하위 데이터, \n",
    "# 데이터의 열과 행을 출력하는 코드를 작성해주세요.\n",
    "\n",
    "import pandas as pd\n",
    "xlsx = pd.read_excel('./sample.xlsx')\n",
    "print(xlsx.head())\n",
    "print()\n",
    "\n",
    "print(xlsx.tail())\n",
    "print()\n",
    "\n",
    "print(xlsx.shape)"
   ]
  },
  {
   "cell_type": "code",
   "execution_count": 79,
   "metadata": {},
   "outputs": [],
   "source": [
    "# 심화1\n",
    "# 다음과 같은 people.csv 데이터가 있습니다. \n",
    "# 해당 데이터를 기반으로 20살 이상인 사람들의 정보만을 담는\n",
    "# filter.csv 파일을 생성하는 코드를 작성해주세요.\n",
    "\n",
    "info=[\n",
    "['성함','나이','사는곳'],\n",
    "['김지원', 28, '인천'],\n",
    "['김세호', 19, '서울'],\n",
    "['노지은', 23, '경기'],\n",
    "['이남훈', 17, '경기'],\n",
    "['우기철', 30, '서울'],\n",
    "['강동수', 19, '서울']]\n",
    "\n",
    "with open('./people.csv','w', newline='') as f:\n",
    "    w = csv.writer(f)\n",
    "    w.writerows(info)\n",
    "\n",
    "with open('./filter.csv','w', newline='') as f:\n",
    "    wt = csv.writer(f)\n",
    "    with open('./people.csv','r') as f2:\n",
    "        r = csv.reader(f2)\n",
    "        next(r)\n",
    "        wt.writerows(filter(lambda x: int(x[1]) >= 20, r))  # 방법1 - 람다 이용\n",
    "\n",
    "# 방법2\n",
    "#         for v in r:\n",
    "#             if int(v[1]) >= 20:\n",
    "#                 wt.writerow(v)"
   ]
  },
  {
   "cell_type": "code",
   "execution_count": null,
   "metadata": {},
   "outputs": [],
   "source": [
    "# 심화2\n",
    "# 다음과 같은 score.csv 데이터가 있습니다. 해당 데이터를 기반으로 각 과목의 평균값을 구해서 average.csv 파일을 생성해 저장하는 코드를 작성해주세요. (평균은 나눈 몫만 가져옵니다.)\n",
    "# \tscore.csv\n",
    "# \t성함, 국어, 영어, 수학\n",
    "# \t김지원, 80, 70, 100\n",
    "# \t김세호, 60, 100, 50\n",
    "# \t노지은, 90, 100, 80\n",
    "# \t이남훈, 40, 50, 30\n",
    "# \t우기철, 60, 70, 40\n",
    "# \t강동수, 70, 40, 80\n",
    "\n",
    "#     average.csv\n",
    "# 국어, 영어, 수학\n",
    "# 66,71,63\n"
   ]
  },
  {
   "cell_type": "code",
   "execution_count": 91,
   "metadata": {},
   "outputs": [],
   "source": [
    "# # 심화3\n",
    "\n",
    "# # 심화 1에서 사용하였던 csv 파일을 가지고 아래와 같은 출력 결과를 만들어 보세요\n",
    "# # 힌트 : csv.DictReader를 이용해 보세요\n",
    "\n",
    "# # {'강동수': {'나이': '19', '사는곳': '서울', '성함': '강동수'},\n",
    "# #  '김세호': {'나이': '19', '사는곳': '서울', '성함': '김세호'},\n",
    "# #  '김지원': {'나이': '28', '사는곳': '인천', '성함': '김지원'},\n",
    "# #  '노지은': {'나이': '23', '사는곳': '경기', '성함': '노지은'},\n",
    "# #  '우기철': {'나이': '30', '사는곳': '서울', '성함': '우기철'},\n",
    "# #  '이남훈': {'나이': '17', '사는곳': '경기', '성함': '이남훈'},}\n",
    "\n",
    "# import csv \n",
    "# with open('./people.csv','r') as f:\n",
    "#     reader = csv.DictReader(f)\n",
    "#     for c in reader:\n",
    "#         for k, v in c.items():\n",
    "#             print(k,v)\n",
    "    "
   ]
  },
  {
   "cell_type": "code",
   "execution_count": null,
   "metadata": {},
   "outputs": [],
   "source": []
  },
  {
   "cell_type": "code",
   "execution_count": null,
   "metadata": {},
   "outputs": [],
   "source": []
  },
  {
   "cell_type": "code",
   "execution_count": null,
   "metadata": {},
   "outputs": [],
   "source": []
  },
  {
   "cell_type": "code",
   "execution_count": null,
   "metadata": {},
   "outputs": [],
   "source": []
  },
  {
   "cell_type": "code",
   "execution_count": null,
   "metadata": {},
   "outputs": [],
   "source": []
  },
  {
   "cell_type": "code",
   "execution_count": null,
   "metadata": {},
   "outputs": [],
   "source": []
  }
 ],
 "metadata": {
  "kernelspec": {
   "display_name": "Python 3",
   "language": "python",
   "name": "python3"
  },
  "language_info": {
   "codemirror_mode": {
    "name": "ipython",
    "version": 3
   },
   "file_extension": ".py",
   "mimetype": "text/x-python",
   "name": "python",
   "nbconvert_exporter": "python",
   "pygments_lexer": "ipython3",
   "version": "3.7.3"
  }
 },
 "nbformat": 4,
 "nbformat_minor": 2
}
