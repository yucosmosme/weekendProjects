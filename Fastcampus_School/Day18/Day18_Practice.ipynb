{
 "cells": [
  {
   "cell_type": "markdown",
   "metadata": {},
   "source": [
    "## 에러와 예외처리\n",
    "\n",
    "- 에러를 예외처리하여 프로그램을 제대로 작동하게 하고 에러를 수정할 수 있다. \n",
    "- linter: 코드스타일, 문법 체크  \n",
    "    문법적으로 에러가 없지만, 코드 실행(런타임)시 발생하는 에러의 예외처리도 중요.\n",
    "- 항상 예외가 발생하지 않을 것으로 가정하고 코딩해야 함  \n",
    "  그 후 런타임시 예외발생하면 예외처리 코딩을 권장함..."
   ]
  },
  {
   "cell_type": "markdown",
   "metadata": {},
   "source": [
    "#### 에러 종류\n",
    "- SyntaxError : 문법을 잘못 쓴 경우의 에러.\n",
    "- NameError: 참조변수가 없는 에러. ex. a=1, b=10이라고 정의했는데 print(c)를 한 경우... 정의되지 않음...\n",
    "- (런타임에러)ZeroDivisionError : 0으로 나누기 (문법적으로는 에러가 없지만 실행시키면 에러. 0으로 나누는 것을 불가해서.)\n",
    "- IndexError : 인덱스 범위 오버 ex. x=[10,20,30]으로 세개의 인덱스를 주고, print(x[3])이라고 네번째 인덱스 호출\n",
    "- KeyError : dictionary에서 없는 key값을 호출... \n",
    "- AttributeError : 모듈, 클래스에 있는 잘못된 속성 사용\n",
    "- ValueError : 참조값이 없을 때 발생 x=[1,4,5]인데 x.remove(10) 10을 지운다고 하니 에러\n",
    "- FileNotFoundError : 외부 파일 처리할떄 에러. f=open('test.txt','r') 실행할때 file not found \n",
    "- TypeError : x=[1,2], y=(1,2) > print(x+y) 하면 list와 tuple은 결합할 수 없음. -> 형변환시켜야됨 "
   ]
  },
  {
   "cell_type": "markdown",
   "metadata": {},
   "source": [
    "#### 예외처리 기본\n",
    "- try : 에러가 발생할 가능성이 있는 코드 실행 \n",
    "- except : 에러명1\n",
    "- except : 에러명2\n",
    "- else : 에러가 발생하지 않았을 경우 실행\n",
    "- finally : 항상 실행"
   ]
  },
  {
   "cell_type": "code",
   "execution_count": 11,
   "metadata": {},
   "outputs": [
    {
     "name": "stdout",
     "output_type": "stream",
     "text": [
      "kim found it! in name\n",
      "Ok! else!\n"
     ]
    }
   ],
   "source": [
    "name = ['kim', 'lee', 'park']\n",
    "\n",
    "try:\n",
    "    z='kim'\n",
    "    x=name.index(z) #----------name의 index에서 z를 찾아라\n",
    "    print('{} found it! in name'.format(z, x+1))\n",
    "except ValueError :\n",
    "    print('Not found it! - Occurred ValueError!')\n",
    "else: \n",
    "    print('Ok! else!')   #-----try문이 정상실행됐을떄 출력"
   ]
  },
  {
   "cell_type": "code",
   "execution_count": 14,
   "metadata": {},
   "outputs": [
    {
     "name": "stdout",
     "output_type": "stream",
     "text": [
      "Not found it! - Occurred Error!\n"
     ]
    }
   ],
   "source": [
    "name = ['kim', 'lee', 'park']\n",
    "\n",
    "try:\n",
    "    z='jin'\n",
    "    x=name.index(z) \n",
    "    print('{} found it! in name'.format(z, x+1))\n",
    "except :\n",
    "    print('Not found it! - Occurred Error!')   #--->어떤 에러가 나올지 모르면 'valueerror'라는 말을 뺴고 그냥 'error'\n",
    "else: \n",
    "    print('Ok! else!') "
   ]
  },
  {
   "cell_type": "code",
   "execution_count": 17,
   "metadata": {},
   "outputs": [
    {
     "name": "stdout",
     "output_type": "stream",
     "text": [
      "kim found it! in name\n",
      "Ok! else!\n",
      "finally ok!\n"
     ]
    }
   ],
   "source": [
    "name = ['kim', 'lee', 'park']\n",
    "\n",
    "try:\n",
    "    z='kim'\n",
    "    x=name.index(z) \n",
    "    print('{} found it! in name'.format(z, x+1))\n",
    "except ValueError :\n",
    "    print('Not found it! - Occurred ValueError!')\n",
    "except IndexError:\n",
    "    print('Not found it! - Occurred IndexError!')  \n",
    "except Exception:\n",
    "    print('Not found it! - Occurred Error!')    #---위에 세줄처럼 계층적으로 구조화하는것도 중요. 이때 exception은 마지막에 와야함. \n",
    "else: \n",
    "    print('Ok! else!')  \n",
    "finally: \n",
    "    print('finally ok!')    #----------에러가 발생하든 안하든 출력됨 (else는 에러없을때만 출력)"
   ]
  },
  {
   "cell_type": "code",
   "execution_count": 21,
   "metadata": {},
   "outputs": [
    {
     "name": "stdout",
     "output_type": "stream",
     "text": [
      "ok 허가!\n",
      "ok!\n"
     ]
    }
   ],
   "source": [
    "##예외 발생 : Raise. \n",
    "# 중요한 내용이 와야하는 경우, 그게 아니면 error가 뜨게끔 프로그래머가 에러를 직접 규정\n",
    "\n",
    "try:\n",
    "    a='kim'\n",
    "    if a =='kim':\n",
    "        print('ok 허가!')\n",
    "    else :\n",
    "        raise ValueError\n",
    "except ValueError:\n",
    "        print('문제 발생!')   # kim이 아니면 valueError발생시키도록 규정함..\n",
    "except Exception as f:\n",
    "        print(f)\n",
    "else:\n",
    "        print('ok!')"
   ]
  },
  {
   "cell_type": "markdown",
   "metadata": {},
   "source": [
    "## Excel, CSV 읽기 쓰기\n",
    "\n",
    "- 파이썬 외부파일 처리\n",
    "- CSV : MIME 형식은 text/csv 파일임. 대부분 콤마로 구분되어있음. 그렇지 않은 경우 csv형식 파일을 불러올 때 delimiter로 구분자를 정의해줘야 함."
   ]
  },
  {
   "cell_type": "code",
   "execution_count": 29,
   "metadata": {},
   "outputs": [
    {
     "name": "stdout",
     "output_type": "stream",
     "text": [
      "<_csv.reader object at 0x000001B87EE3EA70>\n",
      "['1', '김정수', '2017-01-19 11:30:00', '25']\n",
      "['2', '박민구', '2017-02-07 10:22:00', '35']\n",
      "['3', '정순미', '2017-01-22 09:10:00', '33']\n",
      "['4', '김정현', '2017-02-22 14:09:00', '45']\n",
      "['5', '홍미진', '2017-04-01 18:00:00', '17']\n",
      "['6', '김순철', '2017-05-14 22:33:07', '22']\n",
      "['7', '이동철', '2017-03-01 23:44:45', '27']\n",
      "['8', '박지숙', '2017-01-11 06:04:18', '30']\n",
      "['9', '김은미', '2017-02-08 07:44:33', '51']\n",
      "['10', '장혁철', '2017-12-01 13:01:11', '16']\n"
     ]
    }
   ],
   "source": [
    "import csv \n",
    "\n",
    "with open('./sample1.csv','r') as f:\n",
    "    reader = csv.reader(f)\n",
    "    next(reader)  #-------header(맨윗줄 column명) 스킵하고 가져옴\n",
    "    print(reader)\n",
    "    \n",
    "    for c in reader:\n",
    "        print(c)\n",
    "    "
   ]
  },
  {
   "cell_type": "code",
   "execution_count": 32,
   "metadata": {},
   "outputs": [
    {
     "name": "stdout",
     "output_type": "stream",
     "text": [
      "<_csv.reader object at 0x000001B87EE3E3F0>\n",
      "['1', '김정수', '2017-01-19 11:30:00', '25']\n",
      "['2', '박민구', '2017-02-07 10:22:00', '35']\n",
      "['3', '정순미', '2017-01-22 09:10:00', '33']\n",
      "['4', '김정현', '2017-02-22 14:09:00', '45']\n",
      "['5', '홍미진', '2017-04-01 18:00:00', '17']\n",
      "['6', '김순철', '2017-05-14 22:33:07', '22']\n",
      "['7', '이동철', '2017-03-01 23:44:45', '27']\n",
      "['8', '박지숙', '2017-01-11 06:04:18', '30']\n",
      "['9', '김은미', '2017-02-08 07:44:33', '51']\n",
      "['10', '장혁철', '2017-12-01 13:01:11', '16']\n"
     ]
    }
   ],
   "source": [
    "import csv \n",
    "\n",
    "with open('./sample2.csv','r') as f:\n",
    "    reader = csv.reader(f, delimiter='|')   #---csv파일의 구분자가 컴마가 아닐때 delimiter로 정의해주고 가져옴.\n",
    "    next(reader)  #-------header(맨윗줄 column명) 스킵하고 가져옴\n",
    "    print(reader)\n",
    "    \n",
    "    for c in reader:\n",
    "        print(c)\n",
    "    "
   ]
  },
  {
   "cell_type": "code",
   "execution_count": 36,
   "metadata": {},
   "outputs": [
    {
     "name": "stdout",
     "output_type": "stream",
     "text": [
      "번호 1\n",
      "이름 김정수\n",
      "가입일시 2017-01-19 11:30:00\n",
      "나이 25\n",
      "--------------\n",
      "번호 2\n",
      "이름 박민구\n",
      "가입일시 2017-02-07 10:22:00\n",
      "나이 35\n",
      "--------------\n",
      "번호 3\n",
      "이름 정순미\n",
      "가입일시 2017-01-22 09:10:00\n",
      "나이 33\n",
      "--------------\n",
      "번호 4\n",
      "이름 김정현\n",
      "가입일시 2017-02-22 14:09:00\n",
      "나이 45\n",
      "--------------\n",
      "번호 5\n",
      "이름 홍미진\n",
      "가입일시 2017-04-01 18:00:00\n",
      "나이 17\n",
      "--------------\n",
      "번호 6\n",
      "이름 김순철\n",
      "가입일시 2017-05-14 22:33:07\n",
      "나이 22\n",
      "--------------\n",
      "번호 7\n",
      "이름 이동철\n",
      "가입일시 2017-03-01 23:44:45\n",
      "나이 27\n",
      "--------------\n",
      "번호 8\n",
      "이름 박지숙\n",
      "가입일시 2017-01-11 06:04:18\n",
      "나이 30\n",
      "--------------\n",
      "번호 9\n",
      "이름 김은미\n",
      "가입일시 2017-02-08 07:44:33\n",
      "나이 51\n",
      "--------------\n",
      "번호 10\n",
      "이름 장혁철\n",
      "가입일시 2017-12-01 13:01:11\n",
      "나이 16\n",
      "--------------\n"
     ]
    }
   ],
   "source": [
    "import csv \n",
    "\n",
    "with open('./sample1.csv','r') as f:\n",
    "    reader = csv.DictReader(f)    #----dictionary 형태로 가져옴\n",
    "    for c in reader:\n",
    "        for k, v in c.items():   #--k는 key, v는 value.. items는 모두 가져오는것...\n",
    "            print(k,v)\n",
    "        print ('--------------')"
   ]
  },
  {
   "cell_type": "code",
   "execution_count": 43,
   "metadata": {},
   "outputs": [],
   "source": [
    "#csv 쓰기\n",
    "w=[[1,2,3],[4,5,6],[7,8,9],[10,11,12],[13,14,15],[16,17,18]]\n",
    "\n",
    "with open('.sample3.csv','w', newline='') as f:   # newline=''은 csv가 기본적으로 열때 줄바꿔서 여는건데 줄바꿈을 하지 않겠다.\n",
    "    wt = csv.writer(f)  #변수선언\n",
    "    for v in w:\n",
    "        wt.writerow(v)"
   ]
  },
  {
   "cell_type": "code",
   "execution_count": 42,
   "metadata": {},
   "outputs": [],
   "source": [
    "w=[[1,2,3],[4,5,6],[7,8,9],[10,11,12],[13,14,15],[16,17,18]]\n",
    "\n",
    "with open('.sample4.csv','w', newline='') as f:  \n",
    "    wt = csv.writer(f)  #변수선언\n",
    "    wt.writerow(w)   #검증하지 않고 바로 가져옴 (for문 사용하면 검증하고 가져오는것)"
   ]
  },
  {
   "cell_type": "code",
   "execution_count": 51,
   "metadata": {},
   "outputs": [
    {
     "name": "stdout",
     "output_type": "stream",
     "text": [
      "  Sap Co.      대리점 영업사원       전월       금월  TEAM  총 판매수량\n",
      "0  KI1316  경기수원대리점  이기정  1720000  2952000     1     123\n",
      "1  KI1451  충청홍성대리점  정미진  4080000  2706000     2     220\n",
      "2  KI1534  경기화성대리점  경인선   600000  2214000     1     320\n",
      "3  KI1636  강원속초대리점  이동권  3720000  2870000     3     110\n",
      "4  KI1735  경기안양대리점  강준석  4800000  2296000     1     134\n",
      "\n",
      "   Sap Co.       대리점 영업사원       전월       금월  TEAM  총 판매수량\n",
      "15  KI2870  경기구리시대리점  박진형  6000000  3400000     2     143\n",
      "16  KI2910   강원춘천대리점  김은향  4800000  4896000     1     176\n",
      "17  KI3030   강원영동대리점  전수창  4560000  3128000     2      98\n",
      "18  KI3131   경기하남대리점  김민정  2750000  7268000     3     293\n",
      "19  KI3252   강원포천대리점  서가은  2420000  4740000     4     240\n"
     ]
    }
   ],
   "source": [
    "#엑셀 파일 불러올 떄 pandas사용\n",
    "import pandas as pd\n",
    "\n",
    "xlsx = pd.read_excel('./sample.xlsx')\n",
    "\n",
    "print(xlsx.head())  #-첫번째부터 5개만 보여줌\n",
    "print()\n",
    "print(xlsx.tail())  #--뒤에서부터 5개 보여줌\n"
   ]
  },
  {
   "cell_type": "code",
   "execution_count": 50,
   "metadata": {
    "scrolled": true
   },
   "outputs": [
    {
     "name": "stdout",
     "output_type": "stream",
     "text": [
      "(20, 7)\n"
     ]
    }
   ],
   "source": [
    "import pandas as pd\n",
    "\n",
    "xlsx = pd.read_excel('./sample.xlsx')\n",
    "\n",
    "print(xlsx.shape)  #--(행, 열) 개수 보여줌 \n"
   ]
  },
  {
   "cell_type": "code",
   "execution_count": null,
   "metadata": {},
   "outputs": [],
   "source": []
  },
  {
   "cell_type": "code",
   "execution_count": null,
   "metadata": {},
   "outputs": [],
   "source": []
  },
  {
   "cell_type": "code",
   "execution_count": null,
   "metadata": {},
   "outputs": [],
   "source": []
  }
 ],
 "metadata": {
  "kernelspec": {
   "display_name": "Python 3",
   "language": "python",
   "name": "python3"
  },
  "language_info": {
   "codemirror_mode": {
    "name": "ipython",
    "version": 3
   },
   "file_extension": ".py",
   "mimetype": "text/x-python",
   "name": "python",
   "nbconvert_exporter": "python",
   "pygments_lexer": "ipython3",
   "version": "3.7.3"
  }
 },
 "nbformat": 4,
 "nbformat_minor": 2
}
