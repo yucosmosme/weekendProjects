{
 "cells": [
  {
   "cell_type": "markdown",
   "metadata": {},
   "source": [
    "### 필수1\n",
    "\n",
    "1. 모듈(module)은 무엇을 의미하는지 서술하시오.\n",
    ">모듈은 전역변수, 함수등 을 모아둔 파일\n",
    "\n",
    "2. 패키지(package)는 무엇을 의미하는지 서술하시오.\n",
    ">패키지는 모듈을 디렉토리형식으로 구조화한 것.\n",
    "\n",
    "3. 파일을 입출력할 때 부여할 수 있는 세 가지 모드에 대해 서술해주세요. \n",
    ">r - 읽기모드  \n",
    "w - 쓰기모드 (기존파일에 덮어씀)  \n",
    "a - 추가모드 (파일 생성 또는 추가)\n",
    "\n",
    "4. 세 가지 모드 중 파일이 없는 경우 에러 없이 작동하는 모드와 에러가 발생하지 않았을 때 발생하는 일(파일 생성여부 등)을 서술해주세요.\n",
    ">r 읽기모드일때 에러가 발생함 (파일이 없다고 나옴)  \n",
    "w 쓰기모드일때 파일이 잘 생성됨  \n",
    "a 추가모드일때 파일이 잘 생성됨\n",
    "\n",
    "\n",
    "5. 패키지 내부 __init__.py 파일의 역할에 대해 서술해주세요.\n",
    ">패키지라는 것을 알려주는 역할. 파이썬2에서는 __init__.py가 없으면 패키지로 인식되지 않기 때문에 필수이다.\n"
   ]
  },
  {
   "cell_type": "code",
   "execution_count": 3,
   "metadata": {},
   "outputs": [
    {
     "name": "stdout",
     "output_type": "stream",
     "text": [
      "3\n",
      "1\n"
     ]
    },
    {
     "ename": "NameError",
     "evalue": "name 'add' is not defined",
     "output_type": "error",
     "traceback": [
      "\u001b[1;31m---------------------------------------------------------------------------\u001b[0m",
      "\u001b[1;31mNameError\u001b[0m                                 Traceback (most recent call last)",
      "\u001b[1;32m<ipython-input-3-cf2f866c8a84>\u001b[0m in \u001b[0;36m<module>\u001b[1;34m\u001b[0m\n\u001b[0;32m     23\u001b[0m \u001b[1;33m\u001b[0m\u001b[0m\n\u001b[0;32m     24\u001b[0m \u001b[1;32mif\u001b[0m \u001b[0m__name__\u001b[0m \u001b[1;33m==\u001b[0m \u001b[1;34m\"__main__\"\u001b[0m\u001b[1;33m:\u001b[0m   \u001b[1;31m#-------> 단위실행은 패키지 파일 안에 쓰는 것이고, 그 패키지에 있는 모듈들이 작동을 잘 하는지 테스트 하기 위한 것. 다른 파일에서 패키지가 불러와졌을때는 실행하지 않도록 세팅되어있기때문에 '단위실행'\u001b[0m\u001b[1;33m\u001b[0m\u001b[1;33m\u001b[0m\u001b[0m\n\u001b[1;32m---> 25\u001b[1;33m     \u001b[0mprint\u001b[0m\u001b[1;33m(\u001b[0m\u001b[0madd\u001b[0m\u001b[1;33m(\u001b[0m\u001b[1;36m1\u001b[0m\u001b[1;33m,\u001b[0m \u001b[1;36m2\u001b[0m\u001b[1;33m)\u001b[0m\u001b[1;33m)\u001b[0m\u001b[1;33m\u001b[0m\u001b[1;33m\u001b[0m\u001b[0m\n\u001b[0m\u001b[0;32m     26\u001b[0m     \u001b[0mprint\u001b[0m\u001b[1;33m(\u001b[0m\u001b[0mmul\u001b[0m\u001b[1;33m(\u001b[0m\u001b[1;36m2\u001b[0m\u001b[1;33m,\u001b[0m \u001b[1;36m3\u001b[0m\u001b[1;33m)\u001b[0m\u001b[1;33m)\u001b[0m\u001b[1;33m\u001b[0m\u001b[1;33m\u001b[0m\u001b[0m\n\u001b[0;32m     27\u001b[0m     \u001b[0mprint\u001b[0m\u001b[1;33m(\u001b[0m\u001b[0msub\u001b[0m\u001b[1;33m(\u001b[0m\u001b[1;36m2\u001b[0m\u001b[1;33m,\u001b[0m \u001b[1;36m1\u001b[0m\u001b[1;33m)\u001b[0m\u001b[1;33m)\u001b[0m\u001b[1;33m\u001b[0m\u001b[1;33m\u001b[0m\u001b[0m\n",
      "\u001b[1;31mNameError\u001b[0m: name 'add' is not defined"
     ]
    }
   ],
   "source": [
    "# 필수2\n",
    "# 실행될 파일과 같은 경로에 pkg라는 이름의 패키지(디렉토리)가 존재합니다. \n",
    "# pkg패키지에는 calculations이라는 모듈이 존재하고 add(덧셈), mul(곱셈), sub(뺄셈)\n",
    "# 함수들이 정의되어있습니다. 아래의 요구사항을 충족하는 코드를 각각 작성해주세요. \n",
    "\n",
    "# calculations 모듈에 존재하는 add 함수를 다음과 같은 문으로 \n",
    "# 호출할 수 있도록 모듈을 불러오는 코드를 작성해주세요.\n",
    "# c.add(1, 2)\n",
    "\n",
    "import pkg.calculations as c\n",
    "print(c.add(1,2))\n",
    "\n",
    "# calculations 모듈에 존재하는 sub 함수를 다음과 같은 문으로 \n",
    "# 호출할 수 있도록 모듈의 함수를 불러오는 코드를 작성해주세요.\n",
    "# s(2, 1)\n",
    "\n",
    "from pkg.calculations import sub as s\n",
    "print(s(2,1))\n",
    "\n",
    "# 해당 모듈이 제대로 작동하는지 확인하기 위해 테스트코드를 작성하려고 합니다. \n",
    "# 이를 단위실행이라고 하는데, calculations 모듈에서 단위 실행을 할 수 있는 \n",
    "# 코드를 작성해주세요.\n",
    "\n",
    "if __name__ == \"__main__\":   #-------> 단위실행은 패키지 파일 안에 쓰는 것이고, 그 패키지에 있는 모듈들이 작동을 잘 하는지 테스트 하기 위한 것. 다른 파일에서 패키지가 불러와졌을때는 실행하지 않도록 세팅되어있기때문에 '단위실행'\n",
    "    print(add(1, 2))\n",
    "    print(mul(2, 3))\n",
    "    print(sub(2, 1))\n",
    "    print(div(4, 2))"
   ]
  },
  {
   "cell_type": "code",
   "execution_count": 29,
   "metadata": {},
   "outputs": [
    {
     "name": "stdout",
     "output_type": "stream",
     "text": [
      "He said,\n",
      "The audience should be lit\n",
      "\n",
      "\n"
     ]
    }
   ],
   "source": [
    "# 필수3\n",
    "# review.txt 파일을 읽어서 출력하는 코드를 작성해주세요.\n",
    "f=open('./review.txt','r')\n",
    "content=f.read()\n",
    "print(content)\n",
    "f.close()\n"
   ]
  },
  {
   "cell_type": "code",
   "execution_count": 11,
   "metadata": {},
   "outputs": [
    {
     "name": "stdout",
     "output_type": "stream",
     "text": [
      "18\n"
     ]
    }
   ],
   "source": [
    "# hello.txt라는 파일에 hello python world 라는 글을 쓰는 코드를 작성해주세요.\n",
    "f=open('./hello.txt','w')\n",
    "content=f.write(\"hello python world\")\n",
    "print(content)\n",
    "f.close()"
   ]
  },
  {
   "cell_type": "code",
   "execution_count": 8,
   "metadata": {},
   "outputs": [],
   "source": [
    "# 리스트 자료형 ['Hello', 'world', 'pyThon', 'file']를 기반으로 \n",
    "# string.txt 파일을 생성한뒤 다음과 같은 내용을 담도록 글을 쓰는 코드를 작성해주세요.\n",
    "\n",
    "# [string.txt]\n",
    "# Hello\t\n",
    "# world\t\n",
    "# pyThon\n",
    "# file\n",
    "\n",
    "li=list(['Hello', 'world', 'pyThon', 'file'])\n",
    "with open('./string.txt','w')as f:\n",
    "    # hello.txt라는 파일에 hello python world 라는 글을 쓰는 코드를 작성해주세요.\n",
    "f=open('./hello.txt','w')\n",
    "content=f.write(\"hello python world\")\n",
    "print(content)\n",
    "f.close()"
   ]
  },
  {
   "cell_type": "code",
   "execution_count": 18,
   "metadata": {},
   "outputs": [],
   "source": [
    "# 심화1\n",
    "# 아래와 같은 string.txt 파일이 있습니다. 해당 파일을 읽은 뒤 소문자인 문자들만 골라 lowercase.txt에 저장하는 코드를 작성해주세요. (파일 경로는 자율입니다.)\n",
    "\n",
    "# [string.txt]\t\t[lowercase.txt]\n",
    "# Hello\t\t\tworld\n",
    "# world\t\t\tfile\n",
    "# pyThon\t\t\n",
    "# file\n",
    "\n",
    "f = open('./string1.txt','r')\n",
    "lines = f.readlines()\n",
    "line2 = []\n",
    "for line in lines :\n",
    "    if line.islower() :\n",
    "        line2.append(line)\n",
    "f.close()\n",
    "                \n",
    "f=open('./lowercase.txt','w')\n",
    "f.writelines(line2)\n",
    "f.close()\n",
    "\n",
    "\n",
    "            \n",
    "        \n"
   ]
  }
 ],
 "metadata": {
  "kernelspec": {
   "display_name": "Python 3",
   "language": "python",
   "name": "python3"
  },
  "language_info": {
   "codemirror_mode": {
    "name": "ipython",
    "version": 3
   },
   "file_extension": ".py",
   "mimetype": "text/x-python",
   "name": "python",
   "nbconvert_exporter": "python",
   "pygments_lexer": "ipython3",
   "version": "3.7.3"
  }
 },
 "nbformat": 4,
 "nbformat_minor": 2
}
