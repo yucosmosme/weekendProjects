{
 "cells": [
  {
   "cell_type": "markdown",
   "metadata": {},
   "source": [
    "### 필수1"
   ]
  },
  {
   "cell_type": "markdown",
   "metadata": {},
   "source": [
    "파이썬의 조건문(if, elif, else 문)은 어떤 역할을 하는지 서술해보세요.\n",
    ">프로그래밍에서 주어진 조건을 판단하여 그에 맞는 상황을 수행하는 역할\n",
    "\n",
    "파이썬의 반복문(for 문)은 어떤 역할을 하는지 서술해보세요.\n",
    ">리스트와 같은 순서형 자료를 이용하여 원하는 명령을 반복하는 역할\n",
    "\n",
    "아래의 관계연산자가 어떤 의미를 가지는지 서술해보세요.  \n",
    ">'<': ~보다 작음  \n",
    ">'<=': ~보다 작거나 같음  \n",
    ">'>': ~보다 큼  \n",
    ">'>=':~보다 크거나 같음  \n",
    ">'==': ~와 같음  \n",
    ">'!=': ~와 같지 않음  \n",
    "\n",
    "아래의 논리연산자가 어떤 의미를 가지는지 서술해보세요.  \n",
    ">and: 동시 충족  \n",
    "or: 둘중 하나 충족  \n",
    "not: 모두 아님  \n"
   ]
  },
  {
   "cell_type": "markdown",
   "metadata": {},
   "source": [
    "### 필수2"
   ]
  },
  {
   "cell_type": "markdown",
   "metadata": {},
   "source": [
    "1. if 문에서 True 처럼 취급받는 값과 False처럼 취급받는 값을 아는대로 서술해주세요.\n",
    ">True로 취급하는 값: \"string\", [list], (tuple), {dictionary}, 1, True  \n",
    "False로 취급하는 값: \"\", [], (), {}, 0, False\n",
    "\n",
    "2. 반복이 가능한 자료형 (데이터 타입) 5가지를 서술해주세요.\n",
    ">string, list, tuple, dictionary, set\n",
    "\n",
    "3. 반복문에서 break는 어떤 의미를 가지는지 서술해보세요.\n",
    ">while 문이나 for 문을 사용하는 반복문에서 break를 사용하면 반복문 전체를 빠져나오게 됨\n",
    "\n",
    "4. 반복문에서 continue는 어떤 의미를 가지는지 서술해보세요.\n",
    ">반복문 전체를 빠져나오는 것이 아니라 해당 조건만 건너뜀  \n",
    "프로그램이 실행되다가 continue를 만나면 그 아래의 코드를 수행하지 않고 반복문의 조건을 판단하는 곳으로 점프하게 됨  "
   ]
  },
  {
   "cell_type": "markdown",
   "metadata": {},
   "source": [
    "### 필수3"
   ]
  },
  {
   "cell_type": "code",
   "execution_count": 15,
   "metadata": {},
   "outputs": [
    {
     "name": "stdout",
     "output_type": "stream",
     "text": [
      "성인\n"
     ]
    }
   ],
   "source": [
    "# 다음 문장을 조건문 코드로 작성해보세요.\n",
    "# 만약 나이(변수 age)가 20(세) 이상이면 '성인'을 출력하고, \n",
    "# 그렇지 않은데 13(세) 이상이면 '청소년'을 출력하고 그렇지 않으면 '어린이'를 출력한다.\n",
    "\n",
    "age=22\n",
    "\n",
    "if age>=20 :\n",
    "    print(\"성인\")\n",
    "elif age>=13 :\n",
    "    print(\"청소년\")\n",
    "else : \n",
    "    print(\"어린이\")"
   ]
  },
  {
   "cell_type": "code",
   "execution_count": 74,
   "metadata": {},
   "outputs": [
    {
     "name": "stdout",
     "output_type": "stream",
     "text": [
      "Ok\n"
     ]
    }
   ],
   "source": [
    "# 다음 요구조건을 조건문 코드로 작성해보세요.\n",
    "# 변수 x에는 1 이상의 자연수만 들어옵니다. x가 10보다 크거나 같고, 20보다 작다면 'Ok'를 출력하도록 한다.\n",
    "\n",
    "x=10\n",
    "\n",
    "if x>=10 and x<20:\n",
    "    print(\"Ok\")"
   ]
  },
  {
   "cell_type": "markdown",
   "metadata": {},
   "source": [
    "### 필수4"
   ]
  },
  {
   "cell_type": "code",
   "execution_count": 121,
   "metadata": {},
   "outputs": [
    {
     "name": "stdout",
     "output_type": "stream",
     "text": [
      "3825\n"
     ]
    }
   ],
   "source": [
    "# 반복문을 활용하여 숫자 50부터 100을 더한 값을 출력하는 코드를 작성해주세요.★\n",
    "\n",
    "sum_a = 0\n",
    "\n",
    "for a in range(50, 101) :\n",
    "    sum_a += a\n",
    "\n",
    "print(sum_a)"
   ]
  },
  {
   "cell_type": "code",
   "execution_count": 37,
   "metadata": {},
   "outputs": [
    {
     "name": "stdout",
     "output_type": "stream",
     "text": [
      "kim\n",
      "28\n",
      "seoul\n"
     ]
    }
   ],
   "source": [
    "# 다음 dic 변수에 dictionary 자료형의 값만 출력하는 반복문을 작성해주세요. ('kim', 28, 'seoul'가 차례로 출력)\n",
    "\n",
    "dic = { 'name': 'kim', 'age': 28, 'address': 'seoul' }\n",
    "for key in dic.values ():\n",
    "    print(key)"
   ]
  },
  {
   "cell_type": "code",
   "execution_count": 42,
   "metadata": {},
   "outputs": [
    {
     "name": "stdout",
     "output_type": "stream",
     "text": [
      "Cpp\n",
      "Go\n",
      "Java\n",
      "Javascript\n",
      "Python\n"
     ]
    }
   ],
   "source": [
    "#다음 li 변수에 담긴 list 자료형 값 중에서 'Python'까지만 출력되고 다음 요소들을 출력되지 않도록 반복문을 작성해주세요.\n",
    "\n",
    "li = ['Cpp', 'Go', 'Java', 'Javascript', 'Python', 'Html', 'Kotlin']\n",
    "\n",
    "for i in li :\n",
    "    print(i)\n",
    "    if i==\"Python\" :\n",
    "        break"
   ]
  },
  {
   "cell_type": "markdown",
   "metadata": {},
   "source": [
    "### 필수5"
   ]
  },
  {
   "cell_type": "code",
   "execution_count": 60,
   "metadata": {},
   "outputs": [
    {
     "name": "stdout",
     "output_type": "stream",
     "text": [
      "0.50022\n"
     ]
    }
   ],
   "source": [
    "# # 확률 이론에서 확률(probability)을 크게 두 범주로 구분하면 고전적 확률과 통계적 확률로 나눌 수 있습니다. \n",
    "# 고전적 확률은 가령 주사위를 던져서 3이 나올 확률을 구할 때, 주사위의 눈이 6개이고, \n",
    "# 찾는 눈은 그중 한 개(3)이기 때문에 '1 / 6'으로 수학적으로 계산하는 확률을 뜻합니다. \n",
    "# 반대로 통계적 확률은 3이 나올 확률을 실제로 던져서 확률을 구합니다. \n",
    "# 가령 1000번을 던졌을 때 3이 1667번 나왔다면 '1667 / 1000'로 직접 계산한 확률을 뜻합니다.\n",
    "# # 이번 문제에서는 동전 던지기의 통계적 확률을 계산해보겠습니다.\n",
    "# 위의 문장 전체를 복사하셔서 실행시키시면 ‘results’라는 튜플에 10만번의 주사위를 던진 결과가 저장될 것입니다. \n",
    "# 이때 동전의 앞면은 'head’, 뒷면은 'tail’로 표시되는데요. \n",
    "# 'results’라는 변수와 반복문, 조건문을 사용하셔서 '동전을 던질 때 앞면이 나올 통계적 확률'을 계산하는 코드를 작성해주세요.\n",
    "\n",
    "import random; SIZE = 100000; results = tuple(random.choice(['head', 'tail']) for _ in range(SIZE))\n",
    "\n",
    "j=0\n",
    "for i in results :\n",
    "    if i=='head' :\n",
    "        j+=1\n",
    "print(j/SIZE)"
   ]
  },
  {
   "cell_type": "markdown",
   "metadata": {},
   "source": [
    "### [읽어보기] 연산자 우선순위\n",
    "모든 언어에서 연산자(operator)는 우선순위를 가집니다.\n",
    "심지어 수학에서도 연산자의 우선순위는 정의되어 있죠! (*,/가 +,-보다 우선하는 등)\n",
    "제일 좋은 것은 괄호()를 사용하여 명시적으로 연산자의 우선순위를 알려주는 것이 좋지만, 코드 작성시 매번 괄호를 쓰기는 힘드니(특히 간단한 조건문의 경우) 연산자 우선순위를 알아두면 연산 결과를 간단하게 알 수 있습니다.\n",
    "또한 괄호를 쓰지 않은 연산자에서 예상과 다른 결과가 나왔을 때 어디서 잘못되었는지 알기도 쉽겠죠!\n",
    "수업에서 대략적인 수치, 관계, 논리 연산자의 우선순위에 대하여 배웠지만, 조금 더 자세하게 알아보도록 합시다.\n",
    "\n",
    "아래는 연산자 우선순위에 관한 간단한 문서입니다.\n",
    "https://wikidocs.net/1165\n"
   ]
  },
  {
   "cell_type": "markdown",
   "metadata": {},
   "source": [
    "### 심화1"
   ]
  },
  {
   "cell_type": "code",
   "execution_count": 127,
   "metadata": {},
   "outputs": [
    {
     "name": "stdout",
     "output_type": "stream",
     "text": [
      "2\n",
      "4\n",
      "6\n",
      "8\n",
      "10\n",
      "12\n",
      "14\n",
      "16\n",
      "18\n",
      "20\n"
     ]
    }
   ],
   "source": [
    "# 1부터 20까지의 숫자중에 짝수인 숫자만을 출력하는 반복문 코드를 while문을 이용해서 작성해주세요.\n",
    "\n",
    "i=2\n",
    "while i<=20:\n",
    "    print(i)\n",
    "    i+=2"
   ]
  },
  {
   "cell_type": "code",
   "execution_count": 132,
   "metadata": {},
   "outputs": [
    {
     "name": "stdout",
     "output_type": "stream",
     "text": [
      "5\n",
      "10\n",
      "15\n",
      "20\n"
     ]
    }
   ],
   "source": [
    "# 1부터 20까지의 숫자중에 5의 배수의 숫자만을 출력하는 반복문 코드를 for문을 이용해서 작성해주세요.\n",
    "\n",
    "\n",
    "for i in range(5, 21, 5):\n",
    "    print(i)"
   ]
  },
  {
   "cell_type": "code",
   "execution_count": null,
   "metadata": {},
   "outputs": [],
   "source": [
    "# 1부터 20까지의 숫자중에서 2의 배수이거나 3의 배수인 숫자를 출력하는 반복문을 작성해주세요."
   ]
  },
  {
   "cell_type": "markdown",
   "metadata": {},
   "source": [
    "### 심화2"
   ]
  },
  {
   "cell_type": "code",
   "execution_count": null,
   "metadata": {},
   "outputs": [],
   "source": [
    "다음의 변수 x에 담긴 문자열의 대소문자를 반전시킨 문자열을 출력하는 코드를 작성해주세요.\n",
    "x = 'HeLlOpYtHoN'\n",
    "(출력되는 결과값: 'hElLoPyThOn')\n",
    "\n",
    "반복문을 활용하여 아래와 같이 출력해보세요. (별찍기, 반복이 다섯번 되야합니다.)\n",
    "*\n",
    "**\n",
    "***\n",
    "****\n",
    "*****\n",
    "### 심화1"
   ]
  },
  {
   "cell_type": "markdown",
   "metadata": {},
   "source": [
    "### 심화3"
   ]
  },
  {
   "cell_type": "code",
   "execution_count": null,
   "metadata": {},
   "outputs": [],
   "source": [
    "record = { ‘상품1’ : 10000, ‘상품2’ : 13000, ‘상품3’ : 7000, ‘상품4’ : 21000}\n",
    "이 딕셔너리에서 반복문을 활용하여\n",
    "item = [ ‘상품1’, ‘상품2’, ‘상품3’, ‘상품4’]\n",
    "price = [10000, 13000, 7000, 21000]\n",
    "의 두가지 리스트를 만들어 보세요.\n",
    "\n",
    "# .keys(), .values()를 사용하지 마시고 반복문으로 작성해 보세요.\n",
    "### 심화2"
   ]
  },
  {
   "cell_type": "markdown",
   "metadata": {},
   "source": [
    "### 심화4"
   ]
  },
  {
   "cell_type": "code",
   "execution_count": null,
   "metadata": {},
   "outputs": [],
   "source": [
    "Q> 아래의 리스트를 조건문을 이용해서 오름차순으로 정렬할 수 있는 방법을 생각해보세요.\n",
    "unordered = [2, 1]\n",
    "\n",
    "# .sort를 사용하지 말고 해결해보세요.\n"
   ]
  },
  {
   "cell_type": "markdown",
   "metadata": {},
   "source": [
    "### [심화5-실습1] 게임을 만들어 봅시다! \n",
    "#드디어 미니 프로젝트 #나도 이제 개발자 #일상 #성공적"
   ]
  },
  {
   "cell_type": "code",
   "execution_count": null,
   "metadata": {},
   "outputs": [],
   "source": [
    "반복문과 조건문만 알고있다면 아주 간단한 게임을 만들어 볼 수 있습니다.\n",
    "1부터 100사이의 임의의 숫자를 하나 만든 후 유저가 그 숫자를 맞추는 게임입니다!\n",
    "맞추었을 때는 정답, 틀렸을 때는 오답을 표시해주면 됩니다.\n",
    "그리고 반복문을 이용하여 유저가 맞추었을 때만 반복문이 끝나게 하면 되겠죠?\n",
    "\n",
    "# 1~100사이의 임의의 숫자를 생성하는 방법은\n",
    "# import random\n",
    "# ri = random.randint(1, 100)\n",
    "# 위의 두 줄을 스크립트에 넣으시면 ri 변수에 1~100사이의 임의의 정수가 생성됩니다. (import는 프로그램 최상단에서 한번만 정의하시면 됩니다!)\n",
    "\n",
    "# 사용자에게 입력을 받는 함수는 input()입니다.\n",
    "# x = input()\n",
    "# 위와 같이 입력하면 x라는 변수에 사용자가 입력한 값이 할당됩니다. 이 값은 문자열 형식으로 저장됩니다.\n",
    "\n",
    "추가하기\n",
    "틀렸을 때 업/다운을 표시해주면 유저가 더욱 쉽게 맞출 수 있겠죠?\n",
    "몇 번 안에 맞춰야 밸런스가 맞을지 생각해 보시고 한계 횟수를 지정해주세요.\n",
    "남은 횟수도 보여주면 심장이 쫄깃해질 것 같습니다.\n",
    "숫자 이외에 사용자가 돌발적으로 이상한 값을 입력하였을 때 프로그램이 꺼지면 안되겠죠?\n",
    "### 심화4"
   ]
  },
  {
   "cell_type": "markdown",
   "metadata": {},
   "source": [
    "### 심화6"
   ]
  },
  {
   "cell_type": "code",
   "execution_count": null,
   "metadata": {},
   "outputs": [],
   "source": [
    "사용자에게 각 강의마다 출석인지 결석인지를 질문하여 리스트에 저장한 후 결석 횟수와 출석 횟수를 출력하는 전자 출석부를 완성해주세요. (출석 =1, 결석 =0)\n",
    "\t(문제해결 및 알고리즘)\n",
    "사용자로부터 수업 주차를 입력 받습니다\n",
    "각 주차별로 출석인지 결석인지를 리스트에 저장합니다\n",
    "결석 횟수와 출석 횟수를 계산합니다\n",
    "결석 횟수와 출석 횟수를 출력합니다\n",
    "\n",
    "실행 예:\n",
    "한 학기 수업 주차 입력: 1\n",
    "1주차 강의에 출석하셨나요?\n",
    "출석은 1, 결석은 0 >>> 1\n",
    "결석 횟수: 1, 출석 횟수: 0\n",
    "### 심화4"
   ]
  },
  {
   "cell_type": "code",
   "execution_count": null,
   "metadata": {},
   "outputs": [],
   "source": []
  }
 ],
 "metadata": {
  "kernelspec": {
   "display_name": "Python 3",
   "language": "python",
   "name": "python3"
  },
  "language_info": {
   "codemirror_mode": {
    "name": "ipython",
    "version": 3
   },
   "file_extension": ".py",
   "mimetype": "text/x-python",
   "name": "python",
   "nbconvert_exporter": "python",
   "pygments_lexer": "ipython3",
   "version": "3.7.3"
  }
 },
 "nbformat": 4,
 "nbformat_minor": 2
}
