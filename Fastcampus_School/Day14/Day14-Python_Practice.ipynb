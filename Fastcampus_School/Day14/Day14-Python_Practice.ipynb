{
 "cells": [
  {
   "cell_type": "code",
   "execution_count": 30,
   "metadata": {},
   "outputs": [],
   "source": [
    "# Python 흐름제어  - If statement, Loop"
   ]
  },
  {
   "cell_type": "markdown",
   "metadata": {},
   "source": [
    "## If Statement"
   ]
  },
  {
   "cell_type": "code",
   "execution_count": 2,
   "metadata": {},
   "outputs": [
    {
     "name": "stdout",
     "output_type": "stream",
     "text": [
      "yes\n"
     ]
    }
   ],
   "source": [
    "if True:\n",
    "    print(\"yes\")\n",
    "    \n",
    "    #True, False capitalized"
   ]
  },
  {
   "cell_type": "code",
   "execution_count": 4,
   "metadata": {},
   "outputs": [],
   "source": [
    "if False:\n",
    "    print(\"No\")\n",
    "    \n",
    "# False일 때는 print 실행하지 않음"
   ]
  },
  {
   "cell_type": "code",
   "execution_count": 6,
   "metadata": {},
   "outputs": [
    {
     "name": "stdout",
     "output_type": "stream",
     "text": [
      "yes2\n"
     ]
    }
   ],
   "source": [
    "if False:\n",
    "    print(\"No\")\n",
    "else:\n",
    "    print(\"yes2\")"
   ]
  },
  {
   "cell_type": "code",
   "execution_count": 8,
   "metadata": {},
   "outputs": [],
   "source": [
    "#관계연산자\n",
    "# >, >=, <, <=\n",
    "# == 같다\n",
    "# != 같지않다"
   ]
  },
  {
   "cell_type": "code",
   "execution_count": 11,
   "metadata": {},
   "outputs": [
    {
     "name": "stdout",
     "output_type": "stream",
     "text": [
      "False\n",
      "True\n"
     ]
    }
   ],
   "source": [
    "a=10\n",
    "b=5\n",
    "print(a==b)\n",
    "print(a!=b)"
   ]
  },
  {
   "cell_type": "code",
   "execution_count": 17,
   "metadata": {},
   "outputs": [
    {
     "name": "stdout",
     "output_type": "stream",
     "text": [
      "False\n"
     ]
    }
   ],
   "source": [
    "#참 거짓 종류\n",
    "#참: \"string\", [list], (tuple), {dictionary}, 1, True\n",
    "#거짓: \"\", [], (), {}, 0, False      <---빈문자열\n",
    "\n",
    "city=\"\"\n",
    "\n",
    "if city:             #<------------정의해주지 않으면 True인지 판별하라는 뜻\n",
    "    print(\"True\")\n",
    "else:\n",
    "    print(\"False\")"
   ]
  },
  {
   "cell_type": "code",
   "execution_count": 21,
   "metadata": {},
   "outputs": [
    {
     "name": "stdout",
     "output_type": "stream",
     "text": [
      "and :  True\n",
      "not :  False\n",
      "True\n",
      "False\n"
     ]
    }
   ],
   "source": [
    "#논리연산자\n",
    "#and, or, not\n",
    "\n",
    "a=10\n",
    "b=8\n",
    "c=6\n",
    "\n",
    "print('and : ',  a>b and b>c)\n",
    "print('not : ', not a>b)\n",
    "print(not False)\n",
    "print(not True)"
   ]
  },
  {
   "cell_type": "code",
   "execution_count": null,
   "metadata": {},
   "outputs": [],
   "source": [
    "# 적용 순서\n",
    "############# 산술>관계>논리 순서로 적용"
   ]
  },
  {
   "cell_type": "code",
   "execution_count": 24,
   "metadata": {},
   "outputs": [
    {
     "name": "stdout",
     "output_type": "stream",
     "text": [
      "꽝\n"
     ]
    }
   ],
   "source": [
    "# 다중조건문 elif\n",
    "\n",
    "num=70\n",
    "if num >= 90:\n",
    "    print(\"num 등급 A\", num)\n",
    "elif num >=80:\n",
    "    print(\"num 등급 B\", num)\n",
    "else: \n",
    "    print(\"꽝\")"
   ]
  },
  {
   "cell_type": "code",
   "execution_count": 29,
   "metadata": {},
   "outputs": [
    {
     "name": "stdout",
     "output_type": "stream",
     "text": [
      "B 지망 지원 가능\n"
     ]
    }
   ],
   "source": [
    "# 중첩 조건문 - if 안에 if\n",
    "\n",
    "age = 27\n",
    "height = 165\n",
    "\n",
    "if age >=20 :\n",
    "    if height >= 175 :\n",
    "        print(\"A 지망 지원 가능\")\n",
    "    elif height >= 160 :\n",
    "        print(\"B 지망 지원 가능\")\n",
    "    else :\n",
    "        print(\"지원 불가\")\n",
    "else: print(\"20세 이상 지원 가능\")"
   ]
  },
  {
   "cell_type": "markdown",
   "metadata": {},
   "source": [
    "## For & While Loop"
   ]
  },
  {
   "cell_type": "code",
   "execution_count": 42,
   "metadata": {},
   "outputs": [
    {
     "ename": "SyntaxError",
     "evalue": "invalid syntax (<ipython-input-42-610cc7039a0c>, line 9)",
     "output_type": "error",
     "traceback": [
      "\u001b[1;36m  File \u001b[1;32m\"<ipython-input-42-610cc7039a0c>\"\u001b[1;36m, line \u001b[1;32m9\u001b[0m\n\u001b[1;33m    일반적으로 파이썬의 for 문은 반복 횟수가 미리 정해져 있거나 리스트, 튜플, 사전과 같은 파이썬 자료구조와 함께 사용됩니다.\u001b[0m\n\u001b[1;37m             ^\u001b[0m\n\u001b[1;31mSyntaxError\u001b[0m\u001b[1;31m:\u001b[0m invalid syntax\n"
     ]
    }
   ],
   "source": [
    "# For, while\n",
    "# 파이썬 코딩의 핵심\n",
    "# 시퀀스 타입 반복\n",
    "# Continue, Break\n",
    "# For - else 구문\n",
    "# 자료구조 변환\n",
    "\n",
    "\n",
    "일반적으로 파이썬의 for 문은 반복 횟수가 미리 정해져 있거나 리스트, 튜플, 사전과 같은 파이썬 자료구조와 함께 사용됩니다.\n",
    "\n",
    "반면 while 문은 반복해야 할 횟수가 특별히 정해지지 않고 어떤 조건을 충족하는 동안만 실행될 때 주로 사용합니다. 당연한 말이지만 for 문을 사용하나 while 문을 사용하나 결과는 동일합니다. 다만 반복을 수행하는 구조를 보고 for 문을 사용하는 것이 프로그래밍하기 더 쉬워 보이면 for 문으로 작성 하는 것이고, while 문이 더 쉬워 보이면 while 문으로 작성하면 됩니다."
   ]
  },
  {
   "cell_type": "code",
   "execution_count": 38,
   "metadata": {},
   "outputs": [
    {
     "name": "stdout",
     "output_type": "stream",
     "text": [
      "v1 is : 1\n",
      "v1 is : 2\n",
      "v1 is : 3\n",
      "v1 is : 4\n",
      "v1 is : 5\n",
      "v1 is : 6\n",
      "v1 is : 7\n",
      "v1 is : 8\n",
      "v1 is : 9\n",
      "v1 is : 10\n"
     ]
    }
   ],
   "source": [
    "v1=1\n",
    "while v1 < 11:\n",
    "    print(\"v1 is :\", v1)\n",
    "    v1 += 1"
   ]
  },
  {
   "cell_type": "code",
   "execution_count": 39,
   "metadata": {
    "scrolled": true
   },
   "outputs": [
    {
     "name": "stdout",
     "output_type": "stream",
     "text": [
      "v2 is  0\n",
      "v2 is  1\n",
      "v2 is  2\n",
      "v2 is  3\n",
      "v2 is  4\n",
      "v2 is  5\n",
      "v2 is  6\n",
      "v2 is  7\n",
      "v2 is  8\n",
      "v2 is  9\n"
     ]
    }
   ],
   "source": [
    "for v2 in range(10):\n",
    "    print(\"v2 is \", v2)"
   ]
  },
  {
   "cell_type": "code",
   "execution_count": 41,
   "metadata": {
    "scrolled": true
   },
   "outputs": [
    {
     "name": "stdout",
     "output_type": "stream",
     "text": [
      "v is  1\n",
      "v is  2\n",
      "v is  3\n",
      "v is  4\n",
      "v is  5\n",
      "v is  6\n",
      "v is  7\n",
      "v is  8\n",
      "v is  9\n"
     ]
    }
   ],
   "source": [
    "for v3 in range(1,10):\n",
    "    print(\"v is \", v3)"
   ]
  },
  {
   "cell_type": "code",
   "execution_count": 48,
   "metadata": {},
   "outputs": [
    {
     "name": "stdout",
     "output_type": "stream",
     "text": [
      "1~100: 5050\n",
      "1~100: 2500\n"
     ]
    }
   ],
   "source": [
    "sum1 = 0\n",
    "cnt1 = 1\n",
    "\n",
    "while cnt1 <=100:\n",
    "    sum1 += cnt1\n",
    "    cnt1 += 1\n",
    "print('1~100:', sum(range(1,101)))\n",
    "print('1~100:', sum(range(1,101, 2)))"
   ]
  },
  {
   "cell_type": "code",
   "execution_count": null,
   "metadata": {},
   "outputs": [],
   "source": [
    "# For Statement를 통하여\n",
    "#시퀀스(순서가 있는) 자료형 (문자열, 리스트, 튜플) 및  \n",
    "# 순서가 없는 Set, Dictionary도 반복 가능\n",
    "# iterable return 반복가능 함수 : range, reversed, enumerate, filter, map, zip 함수 등이 있음\n"
   ]
  },
  {
   "cell_type": "code",
   "execution_count": 49,
   "metadata": {},
   "outputs": [
    {
     "name": "stdout",
     "output_type": "stream",
     "text": [
      "you are :  kim\n",
      "you are :  park\n",
      "you are :  cho\n",
      "you are :  choi\n",
      "you are :  yoo\n"
     ]
    }
   ],
   "source": [
    "names = ['kim', 'park', 'cho', 'choi', 'yoo']\n",
    "\n",
    "for v in names:\n",
    "    print(\"you are : \", v)"
   ]
  },
  {
   "cell_type": "code",
   "execution_count": 52,
   "metadata": {},
   "outputs": [
    {
     "name": "stdout",
     "output_type": "stream",
     "text": [
      "word d\n",
      "word r\n",
      "word e\n",
      "word a\n",
      "word m\n",
      "word s\n"
     ]
    }
   ],
   "source": [
    "word = \"dreams\"\n",
    "\n",
    "for s in word :\n",
    "    print(\"word\", s)"
   ]
  },
  {
   "cell_type": "code",
   "execution_count": 55,
   "metadata": {},
   "outputs": [
    {
     "name": "stdout",
     "output_type": "stream",
     "text": [
      "my_info name\n",
      "my_info age\n",
      "my_info city\n"
     ]
    }
   ],
   "source": [
    "#Dictionary에 for문 사용 ★\n",
    "\n",
    "my_info = {\n",
    "    \"name\" : \"kim\",\n",
    "    \"age\" : 33,\n",
    "    \"city\" : \"Seoul\"\n",
    "}\n",
    "\n",
    "for key in my_info:\n",
    "    print(\"my_info\",key)     # Dictionary 함수의 key 호출 (기본값은 키)"
   ]
  },
  {
   "cell_type": "code",
   "execution_count": 59,
   "metadata": {},
   "outputs": [
    {
     "name": "stdout",
     "output_type": "stream",
     "text": [
      "my_info kim\n",
      "my_info 33\n",
      "my_info Seoul\n"
     ]
    }
   ],
   "source": [
    "my_info = {\n",
    "    \"name\" : \"kim\",\n",
    "    \"age\" : 33,\n",
    "    \"city\" : \"Seoul\"\n",
    "}\n",
    "\n",
    "for key in my_info.values():\n",
    "    print(\"my_info\",key)     # Dictionary 함수의 value 호출"
   ]
  },
  {
   "cell_type": "code",
   "execution_count": 57,
   "metadata": {},
   "outputs": [
    {
     "name": "stdout",
     "output_type": "stream",
     "text": [
      "my_info name\n",
      "my_info age\n",
      "my_info city\n"
     ]
    }
   ],
   "source": [
    "my_info = {\n",
    "    \"name\" : \"kim\",\n",
    "    \"age\" : 33,\n",
    "    \"city\" : \"Seoul\"\n",
    "}\n",
    "\n",
    "for key in my_info.keys():\n",
    "    print(\"my_info\",key)     # Dictionary 함수의 key 호출"
   ]
  },
  {
   "cell_type": "code",
   "execution_count": 58,
   "metadata": {},
   "outputs": [
    {
     "name": "stdout",
     "output_type": "stream",
     "text": [
      "my_info name kim\n",
      "my_info age 33\n",
      "my_info city Seoul\n"
     ]
    }
   ],
   "source": [
    "my_info = {\n",
    "    \"name\" : \"kim\",\n",
    "    \"age\" : 33,\n",
    "    \"city\" : \"Seoul\"\n",
    "}\n",
    "\n",
    "for k,v in my_info.items():\n",
    "    print(\"my_info\",k,v)     # Dictionary 함수의 items(key, value) 호출"
   ]
  },
  {
   "cell_type": "code",
   "execution_count": 60,
   "metadata": {
    "scrolled": true
   },
   "outputs": [
    {
     "name": "stdout",
     "output_type": "stream",
     "text": [
      "k\n",
      "E\n",
      "N\n",
      "N\n",
      "r\n",
      "y\n"
     ]
    }
   ],
   "source": [
    "#대문자는 소문자로, 소문자는 대문자로 전환\n",
    "\n",
    "name = \"KennRY\"\n",
    "\n",
    "for n in name:\n",
    "    if n.isupper():\n",
    "        print(n.lower())\n",
    "    else:\n",
    "        print(n.upper())"
   ]
  },
  {
   "cell_type": "code",
   "execution_count": null,
   "metadata": {},
   "outputs": [],
   "source": [
    "# Break\n",
    "\n",
    "numbers = [14,3,7,4,10,17,24,2,33,15,34,36,38]"
   ]
  },
  {
   "cell_type": "code",
   "execution_count": null,
   "metadata": {},
   "outputs": [],
   "source": [
    "for while은 iterator이다. 반복시켜줌\n",
    "range도 iterator이긴 함.\n",
    "yeild는 generator임.."
   ]
  }
 ],
 "metadata": {
  "kernelspec": {
   "display_name": "Python 3",
   "language": "python",
   "name": "python3"
  },
  "language_info": {
   "codemirror_mode": {
    "name": "ipython",
    "version": 3
   },
   "file_extension": ".py",
   "mimetype": "text/x-python",
   "name": "python",
   "nbconvert_exporter": "python",
   "pygments_lexer": "ipython3",
   "version": "3.7.3"
  }
 },
 "nbformat": 4,
 "nbformat_minor": 2
}
