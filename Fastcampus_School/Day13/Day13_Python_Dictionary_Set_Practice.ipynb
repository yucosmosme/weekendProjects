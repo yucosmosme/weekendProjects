{
 "cells": [
  {
   "cell_type": "markdown",
   "metadata": {},
   "source": [
    "# 파이썬 자료구조 - Dictionary, Set"
   ]
  },
  {
   "cell_type": "markdown",
   "metadata": {},
   "source": [
    "## 필수1\n",
    "\n",
    "1. 파이썬의 dict 자료형의 특징을 서술해주세요.  \n",
    "`Dictionary : 순서 없고, 중복 불가(key는 중복 허용하지 않음, Value는 허용), 수정 가능, 삭제 가능    \n",
    "Key, Value로 구성. Key를 가지고 Value (조회)를 한다는 뜻.  \n",
    "중괄호 사용`\n",
    "\n",
    "2. 파이썬의 set 자료형의 특징을 서술해주세요.  \n",
    "`Set(집합): 순서 없고, 중복 불가, mutable  \n",
    "중괄호나 대괄호로 선언"
   ]
  },
  {
   "cell_type": "markdown",
   "metadata": {},
   "source": [
    "## 필수2  \n",
    "\n",
    "`아래 변수 dic에 dictionary 자료형 값을 넣어놓았습니다.   \n",
    "해당 변수를 활용하여 아래의 요구사항을 충족하는 코드를 작성해주세요.  \n",
    "dic = {'name': 'Kim', 'age': 28, 'job': 'programmer'}`  "
   ]
  },
  {
   "cell_type": "code",
   "execution_count": 12,
   "metadata": {},
   "outputs": [
    {
     "name": "stdout",
     "output_type": "stream",
     "text": [
      "Kim\n"
     ]
    }
   ],
   "source": [
    "# dic에서 'name'이라는 키의 값을 읽어서 출력하는 print문을 작성해주세요.\n",
    "\n",
    "dic = {'name': 'Kim', 'age': 28, 'job': 'programmer'}\n",
    "print(dic['name'])"
   ]
  },
  {
   "cell_type": "code",
   "execution_count": 16,
   "metadata": {},
   "outputs": [
    {
     "name": "stdout",
     "output_type": "stream",
     "text": [
      "{'name': 'Kim', 'age': 28, 'job': 'programmer', 'address': 'seoul'}\n"
     ]
    }
   ],
   "source": [
    "# dic에 값이 'seoul'인 'address'라는 키를 추가하는 코드를 작성해주세요.\n",
    "\n",
    "dic = {'name': 'Kim', 'age': 28, 'job': 'programmer'}\n",
    "dic['address']='seoul'\n",
    "print(dic)"
   ]
  },
  {
   "cell_type": "code",
   "execution_count": 23,
   "metadata": {},
   "outputs": [
    {
     "name": "stdout",
     "output_type": "stream",
     "text": [
      "dict_keys(['name', 'age', 'job'])\n"
     ]
    }
   ],
   "source": [
    "# dic에 들어있는 모든 키를 구해서 출력하는 print문을 작성해주세요.\n",
    "\n",
    "dic = {'name': 'Kim', 'age': 28, 'job': 'programmer'}\n",
    "print(dic.keys())"
   ]
  },
  {
   "cell_type": "code",
   "execution_count": 21,
   "metadata": {},
   "outputs": [
    {
     "name": "stdout",
     "output_type": "stream",
     "text": [
      "['Kim', 28, 'programmer']\n"
     ]
    }
   ],
   "source": [
    "# dic에 들어있는 모든 값들을 구해서 list자료형으로 변환한 뒤 출력하는 print문을 작성해주세요.\n",
    "\n",
    "dic = {'name': 'Kim', 'age': 28, 'job': 'programmer'}\n",
    "print(list(dic.values()))  #list 로 변환하지 않으면 튜플 안에 들어가 있는 형식으로 나옴"
   ]
  },
  {
   "cell_type": "code",
   "execution_count": 25,
   "metadata": {},
   "outputs": [
    {
     "name": "stdout",
     "output_type": "stream",
     "text": [
      "True\n"
     ]
    }
   ],
   "source": [
    "# dic에 'age'라는 키가 들어있는지 들어있지 않은지 확인해서 들어있으면 True를, 들어있지 않으면 False를 출력하는 print문을 작성해주세요.\n",
    "\n",
    "dic = {'name': 'Kim', 'age': 28, 'job': 'programmer'}\n",
    "print('age' in dic)"
   ]
  },
  {
   "cell_type": "code",
   "execution_count": 29,
   "metadata": {},
   "outputs": [
    {
     "data": {
      "text/plain": [
       "dict_items([('name', 'Kim'), ('age', 28), ('job', 'programmer')])"
      ]
     },
     "execution_count": 29,
     "metadata": {},
     "output_type": "execute_result"
    }
   ],
   "source": [
    "# dic에 들어있는 모든 item (키와 값의 쌍)들을 불러와 출력하는 print문을 작성해주세요.\n",
    "\n",
    "dic = {'name': 'Kim', 'age': 28, 'job': 'programmer'}\n",
    "dic.items()"
   ]
  },
  {
   "cell_type": "markdown",
   "metadata": {},
   "source": [
    "## 필수3\n",
    "\n",
    "`아래 변수 s1과 s2에 set 자료형 값을 넣어놓았습니다.   \n",
    "해당 변수를 활용하여 아래의 요구사항을 충족하는 코드를 작성해주세요.  \n",
    "set1 = set([1, 2, 3, 4])  \n",
    "set2 = set([3, 4, 5, 6, 7])  "
   ]
  },
  {
   "cell_type": "code",
   "execution_count": 31,
   "metadata": {},
   "outputs": [
    {
     "name": "stdout",
     "output_type": "stream",
     "text": [
      "(1, 2, 3, 4)\n"
     ]
    }
   ],
   "source": [
    "# set1을 tuple 데이터 타입으로 형변환해서 출력하는 print문을 작성해주세요.\n",
    "\n",
    "set1 = set([1, 2, 3, 4])\n",
    "set2 = set([3, 4, 5, 6, 7])\n",
    "\n",
    "print(tuple(set1))"
   ]
  },
  {
   "cell_type": "code",
   "execution_count": 35,
   "metadata": {
    "scrolled": true
   },
   "outputs": [
    {
     "name": "stdout",
     "output_type": "stream",
     "text": [
      "{3, 4}\n",
      "{3, 4}\n"
     ]
    }
   ],
   "source": [
    "# set1과 set2의 교집합을 출력하는 print문을 두 가지 방법으로 작성해주세요. (교집합: 겹치는 부분)\n",
    "\n",
    "set1 = set([1, 2, 3, 4])\n",
    "set2 = set([3, 4, 5, 6, 7])\n",
    "\n",
    "print(set1 & set2)\n",
    "print(set1.intersection(set2))"
   ]
  },
  {
   "cell_type": "code",
   "execution_count": 39,
   "metadata": {},
   "outputs": [
    {
     "name": "stdout",
     "output_type": "stream",
     "text": [
      "{1, 2, 3, 4, 5, 6, 7}\n",
      "{1, 2, 3, 4, 5, 6, 7}\n"
     ]
    }
   ],
   "source": [
    "# set1과 set2의 합집합을 출력하는 print문을 두 가지 방법으로 작성해주세요. (합집합: 두 집합을 모두 포함하는 부분)\n",
    "\n",
    "set1 = set([1, 2, 3, 4])\n",
    "set2 = set([3, 4, 5, 6, 7])\n",
    "\n",
    "print(set1 | set2)\n",
    "print(set1.union(set2))"
   ]
  },
  {
   "cell_type": "code",
   "execution_count": 41,
   "metadata": {},
   "outputs": [
    {
     "name": "stdout",
     "output_type": "stream",
     "text": [
      "{1, 2}\n",
      "{1, 2}\n"
     ]
    }
   ],
   "source": [
    "# set1과 set2의 차집합을 출력하는 print문을 두 가지 방법으로 작성해주세요. \n",
    "# (차집합: 겹치지 않는 부분, s1에서 s2와 겹치지 않는 부분을 출력하면 됩니다.)\n",
    "\n",
    "set1 = set([1, 2, 3, 4])\n",
    "set2 = set([3, 4, 5, 6, 7])\n",
    "\n",
    "print (set1 - set2)\n",
    "print (set1.difference(set2))"
   ]
  },
  {
   "cell_type": "code",
   "execution_count": 43,
   "metadata": {},
   "outputs": [
    {
     "name": "stdout",
     "output_type": "stream",
     "text": [
      "{1, 2, 3, 4, 5}\n"
     ]
    }
   ],
   "source": [
    "# set1에 5를 추가하는 코드를 작성해주세요.\n",
    "\n",
    "set1 = set([1, 2, 3, 4])\n",
    "set2 = set([3, 4, 5, 6, 7])\n",
    "\n",
    "set1.add(5)\n",
    "print(set1)"
   ]
  },
  {
   "cell_type": "code",
   "execution_count": 47,
   "metadata": {},
   "outputs": [
    {
     "name": "stdout",
     "output_type": "stream",
     "text": [
      "{3, 4, 5, 6}\n"
     ]
    }
   ],
   "source": [
    "# set2에서 7을 삭제하는 코드를 작성해주세요.\n",
    "\n",
    "set1 = set([1, 2, 3, 4])\n",
    "set2 = set([3, 4, 5, 6, 7])\n",
    "\n",
    "set2.remove(7)\n",
    "print(set2)"
   ]
  },
  {
   "cell_type": "code",
   "execution_count": 111,
   "metadata": {
    "scrolled": false
   },
   "outputs": [
    {
     "name": "stdout",
     "output_type": "stream",
     "text": [
      "{1, 2, 3, 4, 5, 6, 7}\n"
     ]
    }
   ],
   "source": [
    "# set2에 1, 2, 3 등 여러 개의 요소를 한 번에 추가하는 코드를 작성해주세요.\n",
    "\n",
    "set1 = set([1, 2, 3, 4])\n",
    "set2 = set([3, 4, 5, 6, 7])\n",
    "\n",
    "set2.update([1,2,3])\n",
    "print(set2)\n",
    "\n",
    "#adding 1 value: .add(), adding more than 2 values: .update([])"
   ]
  },
  {
   "cell_type": "markdown",
   "metadata": {},
   "source": [
    "## 필수4"
   ]
  },
  {
   "cell_type": "code",
   "execution_count": 217,
   "metadata": {
    "scrolled": true
   },
   "outputs": [
    {
     "data": {
      "text/plain": [
       "set"
      ]
     },
     "execution_count": 217,
     "metadata": {},
     "output_type": "execute_result"
    }
   ],
   "source": [
    "# set 자료형을 선언하는 방식에는 여러 가지 방법이 있습니다.\n",
    "# 가능한 한 모든 방법을 찾아 보시고 각 방법에 대하여 설명해주세요.\n",
    "\n",
    "s={1,2,3} # 중괄호로 묶기\n",
    "s1=set([1,2,3]) #set라고 써주고 대괄호로 묶기\n",
    "s2=set({1,2,3}) #set라고 써주고 중괄호로 묶기"
   ]
  },
  {
   "cell_type": "markdown",
   "metadata": {},
   "source": [
    "## 심화1"
   ]
  },
  {
   "cell_type": "code",
   "execution_count": 58,
   "metadata": {},
   "outputs": [
    {
     "name": "stdout",
     "output_type": "stream",
     "text": [
      "[1, 2, 3, 4, 5]\n"
     ]
    }
   ],
   "source": [
    "# 중복을 제거한 list 데이터 타입 값이 출력되도록 하는 print하는 코드를 작성해주세요.★\n",
    "# li = [1, 1, 2, 3, 3, 3, 4, 5, 5, 5, 5]\n",
    "# 출력된 결과: [1, 2, 3, 4, 5]\n",
    "\n",
    "li = [1, 1, 2, 3, 3, 3, 4, 5, 5, 5, 5]\n",
    "print(list(set(li)))  #set은 값 중복을 허용하지 않음"
   ]
  },
  {
   "cell_type": "code",
   "execution_count": 140,
   "metadata": {},
   "outputs": [
    {
     "data": {
      "text/plain": [
       "{'떡볶이', '연어'}"
      ]
     },
     "execution_count": 140,
     "metadata": {},
     "output_type": "execute_result"
    }
   ],
   "source": [
    "# 다음 dictionary 자료형을 기준으로 지원이와 지은이가 공통적으로 좋아하는 음식이 무엇인지를 \n",
    "# set 자료형으로 출력하는 코드를 작성하시오. ( 힌트:  values 함수(메소드)와 형 변환, 교집합 등)\n",
    "\n",
    "favorite = { 'jiwon': ['연어', '삼겹살', '치킨', '떡볶이'], 'jieun': ['닭발', '곱창', '떡볶이', '연어'] }\n",
    "\n",
    "j3=list(favorite.values())\n",
    "j4=set(j3[0])\n",
    "j5=set(j3[1])\n",
    "j4&j5\n",
    "\n",
    "# 번외1)\n",
    "# j1=set(favorite.get('jiwon'))\n",
    "# j2=set(favorite.get('jieun'))\n",
    "# j1&j2\n",
    "\n",
    "# 번외2)★\n",
    "# set.intersection ( *map( set, favorite.values()))\n"
   ]
  },
  {
   "cell_type": "markdown",
   "metadata": {},
   "source": [
    "## 심화2"
   ]
  },
  {
   "cell_type": "code",
   "execution_count": 108,
   "metadata": {},
   "outputs": [
    {
     "name": "stdout",
     "output_type": "stream",
     "text": [
      "{'name': 'Kim', 'password': 'my***********'}\n"
     ]
    }
   ],
   "source": [
    "# 아래 dictionary 자료형 변수 person에 password를 키로 하여\n",
    "# 고객님이 입력한 비밀번호의 첫 두자리를 제외한 나머지 부분을 *로 바꾼 값을 저장하는 코드를 작성해주세요. \n",
    "# ( 고객님이 입력한 비밀번호는 2개 이상인 랜덤한 문자열로 pw변수에 저장됨을 전제로 합니다. )\n",
    "# 최종 person의 결과값: person = { name: 'Kim', 'password': 'my***********' }\n",
    "\n",
    "person = { 'name': 'Kim' }\n",
    "pw = 'mypassword123'\n",
    "\n",
    "#1번 방법\n",
    "str2 = '*'*len(pw)\n",
    "pw_mask = list(str2)\n",
    "pw_mask[:2] = pw[:2]\n",
    "pw_res = ''.join(pw_mask)\n",
    "\n",
    "\n",
    "#2번 방법\n",
    "pw_list = list(pw)\n",
    "pw_list[2:] = '*'*(len(pw)-2)\n",
    "pw_res = ''.join(pw_list)\n",
    "\n",
    "#3번 방법\n",
    "pw_res = pw[:2]+'*'*(len(pw)-2)\n",
    "\n",
    "\n",
    "person['password']=pw_res\n",
    "print(person)"
   ]
  },
  {
   "cell_type": "markdown",
   "metadata": {},
   "source": [
    "## 심화3"
   ]
  },
  {
   "cell_type": "code",
   "execution_count": 158,
   "metadata": {},
   "outputs": [
    {
     "name": "stdout",
     "output_type": "stream",
     "text": [
      "{'상품1': 10000, '상품2': 13000, '상품3': 7000, '상품4': 21000}\n"
     ]
    }
   ],
   "source": [
    "# 상품 종류와 가격에 관한 두 리스트를 record라는 딕셔너리로 생성하는 코드를 작성해주세요.\n",
    "# (힌트: 파이썬의 내장함수에는 zip이라는 함수가 존재합니다. 이를 검색 후 활용해보세요.)\n",
    "# 실행 예:\n",
    "# record = { ‘상품1’ : 10000, ‘상품2’ : 13000, ‘상품3’ : 7000, ‘상품4’ : 21000}\n",
    "\n",
    "item = ['상품1', '상품2', '상품3', '상품4']\n",
    "price = [10000, 13000, 7000, 21000]\n",
    "\n",
    "record=dict(zip(item, price))\n",
    "print(record)\n"
   ]
  },
  {
   "cell_type": "markdown",
   "metadata": {},
   "source": [
    "## 심화4"
   ]
  },
  {
   "cell_type": "code",
   "execution_count": 208,
   "metadata": {},
   "outputs": [
    {
     "name": "stdout",
     "output_type": "stream",
     "text": [
      "[173, 174, 177, 179, 181]\n"
     ]
    }
   ],
   "source": [
    "BTS = { \n",
    "'RM':[940912, 181, 64],\n",
    "'진':[921204, 179, 60],\n",
    "'슈가':[930309, 174, 57],\n",
    "'J-Hope':[940218, 177, 59],\n",
    "'지민':[951013, 173, 60]\n",
    "}\n",
    "\n",
    "# Q> 위 딕셔너리에서 각 value 리스트중 두 번째 값을 모은 리스트를 만들고 오름차순으로 정렬해보세요.\n",
    "# .sort를 사용해보세요.\n",
    "# .values()를 꼭 사용해서 해결해보세요.\n",
    "# 정답 예시: [173, 174, 177, 179, 181]\n",
    "\n",
    "b0=list(BTS.values())\n",
    "b1=[b0[0][1], b0[1][1],b0[2][1], b0[3][1], b0[4][1]]\n",
    "b1.sort()\n",
    "print(b1)"
   ]
  }
 ],
 "metadata": {
  "kernelspec": {
   "display_name": "Python 3",
   "language": "python",
   "name": "python3"
  },
  "language_info": {
   "codemirror_mode": {
    "name": "ipython",
    "version": 3
   },
   "file_extension": ".py",
   "mimetype": "text/x-python",
   "name": "python",
   "nbconvert_exporter": "python",
   "pygments_lexer": "ipython3",
   "version": "3.7.3"
  }
 },
 "nbformat": 4,
 "nbformat_minor": 2
}
