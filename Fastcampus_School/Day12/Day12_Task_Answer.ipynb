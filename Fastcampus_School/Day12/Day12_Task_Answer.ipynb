{
 "cells": [
  {
   "cell_type": "markdown",
   "metadata": {},
   "source": [
    "## [필수1]::raised_hands::\n",
    "\n",
    "1. 파이썬의 list 자료형과 tuple 자료형의 차이를 서술해주세요.  \n",
    "\n",
    ">list와 tuple 모두 복수 개체의 모음으로 순서가 있고 중복이 가능하다.\n",
    "list는 수정 및 삭제가 가능한 반면, tuple은 수정 및 삭제가 불가능하다.\n",
    "\n",
    "\n",
    "2. 프로그래밍을 할 때 tuple 자료형으로 관리해야 할 데이터의 예시를 들어주세요. (세 번째 ‘리스트 튜플 (3)’ 강의 참고)\n",
    "\n",
    ">수정이 되면 프로그램에 영향을 주는 매우 중요한 키 값, 계좌번호 등 \n",
    "\n",
    "\n",
    "3. 아래 문구에서 알맞은 선택지를 선택해주세요.\n",
    "\n",
    ">list 자료형과 tuple 자료형은 순서를 (`가지고` / ~~가지지 않고~~) 중복을 (`허용한다` / ~~허용하지 않는다.~~)\n",
    "\n",
    "\n",
    "4. list 자료형의 extend 함수와 append 함수의 차이를 서술해주세요. ( 설명하기 어렵다고 판단되시면 코드로 예시를 들어주셔도 좋습니다. )\n",
    "\n",
    "> extend와 append 모두 값을 추가하는 함수이다.  \n",
    "`extend : 현재 리스트에서 값을 연장하는 개념`  \n",
    "**code example**  \n",
    "y=[1,2,3]  \n",
    "x=[88,77]  \n",
    "y.extend(x)  \n",
    "print(y)  \n",
    "-> 결과값은 [1, 2, 3, 88, 77]  \n",
    "\n",
    ">`append : 리스트 내에 또다른 리스트를 삽입하는 개념`  \n",
    "**code example**  \n",
    "u=[1,2,3]  \n",
    "v=[55,66]  \n",
    "u.append(v)  \n",
    "print(u)  \n",
    "->결과값은 [1, 2, 3, [55, 66]]  "
   ]
  },
  {
   "cell_type": "markdown",
   "metadata": {},
   "source": [
    "## [심화3]\n",
    ":sweat_smile:\n",
    "1. 리스트를 정렬하는 방법에는 sorted()와 .sort()의 두 가지 방법이 있습니다.두 방식의 방법상의 차이점과 리턴값을 기반으로 두 방식이 어떻게 다른지 서술해 주세요.  \n",
    ">아래에 서술\n",
    "\n"
   ]
  },
  {
   "cell_type": "code",
   "execution_count": 9,
   "metadata": {},
   "outputs": [
    {
     "name": "stdout",
     "output_type": "stream",
     "text": [
      "[1, 5, 3, 8] [1, 3, 5, 8]\n"
     ]
    }
   ],
   "source": [
    "#sorted : 기존 리스트는 건들지 않고, 새로운 리스트를 만들어 오름차순 정렬하여 반환한다.\n",
    "o=[1,5,3,8]\n",
    "o1=sorted(o)\n",
    "print(o,o1)"
   ]
  },
  {
   "cell_type": "code",
   "execution_count": 11,
   "metadata": {},
   "outputs": [
    {
     "name": "stdout",
     "output_type": "stream",
     "text": [
      "[1, 3, 5, 8]\n"
     ]
    }
   ],
   "source": [
    "#.sort() : 기존리스트 자체를 오름차순으로 정렬한다. 때문에 기존 리스트를 바꾸지 않으려면 sorted를 쓰는 것이 낫다.\n",
    "o=[1,5,3,8]\n",
    "o.sort()\n",
    "print(o)"
   ]
  }
 ],
 "metadata": {
  "kernelspec": {
   "display_name": "Python 3",
   "language": "python",
   "name": "python3"
  },
  "language_info": {
   "codemirror_mode": {
    "name": "ipython",
    "version": 3
   },
   "file_extension": ".py",
   "mimetype": "text/x-python",
   "name": "python",
   "nbconvert_exporter": "python",
   "pygments_lexer": "ipython3",
   "version": "3.7.3"
  }
 },
 "nbformat": 4,
 "nbformat_minor": 2
}
