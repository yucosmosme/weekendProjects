{
 "cells": [
  {
   "cell_type": "code",
   "execution_count": 7,
   "metadata": {},
   "outputs": [],
   "source": [
    "###### 필수2\n",
    "\n",
    "# 다음은 변수에 list를 할당한 코드입니다. 해당 코드를 기준으로 아래의 요구사항을 충족한 코드를 작성해주세요.\n",
    "\n",
    "li = [5, 2, 3, 1, 4]"
   ]
  },
  {
   "cell_type": "code",
   "execution_count": 52,
   "metadata": {},
   "outputs": [
    {
     "name": "stdout",
     "output_type": "stream",
     "text": [
      "3\n"
     ]
    }
   ],
   "source": [
    "# 1. li에서 1이라는 값을 출력하는 print문을 작성해주세요. ( 인덱싱 활용 )\n",
    "li = [5, 2, 3, 1, 4]\n",
    "print(li.index(1))"
   ]
  },
  {
   "cell_type": "code",
   "execution_count": 71,
   "metadata": {},
   "outputs": [
    {
     "name": "stdout",
     "output_type": "stream",
     "text": [
      "5\n"
     ]
    }
   ],
   "source": [
    "# 2. li의 요소 2개를 더해서 5가 출력되게 하는 print문을 작성해주세요.★★\n",
    "li = [5, 2, 3, 1, 4]\n",
    "lii = li[1]+li[2]\n",
    "print(lii)"
   ]
  },
  {
   "cell_type": "code",
   "execution_count": 33,
   "metadata": {},
   "outputs": [
    {
     "name": "stdout",
     "output_type": "stream",
     "text": [
      "[2, 3, 1]\n"
     ]
    }
   ],
   "source": [
    "# 3. li의 1번 인덱스부터 3번 인덱스까지 슬라이싱하여 출력하는 print문을 작성해주세요. (결과값: [2, 3, 1])\n",
    "li = [5, 2, 3, 1, 4]\n",
    "print(li[1:4])"
   ]
  },
  {
   "cell_type": "code",
   "execution_count": 34,
   "metadata": {},
   "outputs": [
    {
     "name": "stdout",
     "output_type": "stream",
     "text": [
      "[5, 2, 3, 1, 4, 5, 2, 3, 1, 4]\n"
     ]
    }
   ],
   "source": [
    "# 4. 변수 li를 이용해서 [5, 2, 3, 1, 4, 5, 2, 3, 1, 4]를 출력하는 print문을 작성해주세요.\n",
    "li = [5, 2, 3, 1, 4]\n",
    "print(li*2)"
   ]
  },
  {
   "cell_type": "code",
   "execution_count": 35,
   "metadata": {},
   "outputs": [
    {
     "name": "stdout",
     "output_type": "stream",
     "text": [
      "[5, 2, 3, 1, 4, 6]\n"
     ]
    }
   ],
   "source": [
    "# 5. li 리스트의 끝에 6이라는 요소를 추가해주는 코드를 작성해주세요.\n",
    "li = [5, 2, 3, 1, 4]\n",
    "li.append(6)\n",
    "print(li)"
   ]
  },
  {
   "cell_type": "code",
   "execution_count": 36,
   "metadata": {},
   "outputs": [
    {
     "name": "stdout",
     "output_type": "stream",
     "text": [
      "[1, 2, 3, 4, 5]\n"
     ]
    }
   ],
   "source": [
    "# 6. li 리스트를 오름차순으로 정렬시켜주는 코드를 작성해주세요.\n",
    "li = [5, 2, 3, 1, 4]\n",
    "li.sort()\n",
    "print(li)"
   ]
  },
  {
   "cell_type": "code",
   "execution_count": 37,
   "metadata": {},
   "outputs": [
    {
     "name": "stdout",
     "output_type": "stream",
     "text": [
      "[5, 2, 1, 4]\n"
     ]
    }
   ],
   "source": [
    "# 7. li 리스트에서 3이라는 값을 찾아 지워주는 코드를 작성해주세요.\n",
    "li = [5, 2, 3, 1, 4]\n",
    "li.remove(3)\n",
    "print(li)"
   ]
  },
  {
   "cell_type": "code",
   "execution_count": 40,
   "metadata": {},
   "outputs": [
    {
     "name": "stdout",
     "output_type": "stream",
     "text": [
      "[5, 2, 6, 3, 1, 4]\n"
     ]
    }
   ],
   "source": [
    "# 8. li 리스트에서 2번 인덱스 자리에 6이라는 숫자를 추가해주는 코드를 작성해주세요. (결과: [5, 2, 6, 3, 1, 4])\n",
    "li = [5, 2, 3, 1, 4]\n",
    "li.insert(2,6)\n",
    "print(li)"
   ]
  },
  {
   "cell_type": "code",
   "execution_count": 41,
   "metadata": {},
   "outputs": [],
   "source": [
    "##### 필수3\n",
    "# 다음은 변수에 tuple을 할당한 코드입니다. 해당 코드를 기준으로 아래의 요구사항을 충족한 코드를 작성해주세요.\n",
    "tu = (5, 2, 1, 2,  (4, 3, 6))"
   ]
  },
  {
   "cell_type": "code",
   "execution_count": 46,
   "metadata": {},
   "outputs": [
    {
     "name": "stdout",
     "output_type": "stream",
     "text": [
      "4\n"
     ]
    }
   ],
   "source": [
    "# 1. tu 안에 있는 4라는 값(요소)를 출력하는 print문을 작성해주세요.★\n",
    "tu = (5, 2, 1, 2,  (4, 3, 6))\n",
    "print(tu[4][0])  #-> 인덱스는 시퀀스 대괄호 출력원하는 요소로 지정"
   ]
  },
  {
   "cell_type": "code",
   "execution_count": 47,
   "metadata": {},
   "outputs": [
    {
     "name": "stdout",
     "output_type": "stream",
     "text": [
      "2\n"
     ]
    }
   ],
   "source": [
    "# 2. 1 이라는 값이 tu에서 어느 인덱스에 위치하는지를 출력해주는 print문을 작성해주세요.\n",
    "tu = (5, 2, 1, 2,  (4, 3, 6))\n",
    "print(tu.index(1))"
   ]
  },
  {
   "cell_type": "code",
   "execution_count": 48,
   "metadata": {},
   "outputs": [
    {
     "name": "stdout",
     "output_type": "stream",
     "text": [
      "2\n"
     ]
    }
   ],
   "source": [
    "# 3. 2 라는 값이 tu 에서 몇 개 있는지를 출력해주는 print 문을 작성해주세요.\n",
    "tu = (5, 2, 1, 2,  (4, 3, 6))\n",
    "print(tu.count(2))"
   ]
  },
  {
   "cell_type": "code",
   "execution_count": 49,
   "metadata": {},
   "outputs": [
    {
     "name": "stdout",
     "output_type": "stream",
     "text": [
      "False\n"
     ]
    }
   ],
   "source": [
    "# 4. 10 이라는 값이 tu 안에 있는지를 출력해주는 print문을 작성해주세요. ( 결과값은 False입니다. )\n",
    "tu = (5, 2, 1, 2,  (4, 3, 6))\n",
    "print(10 in tu)"
   ]
  },
  {
   "cell_type": "code",
   "execution_count": 76,
   "metadata": {},
   "outputs": [
    {
     "data": {
      "text/plain": [
       "7"
      ]
     },
     "execution_count": 76,
     "metadata": {},
     "output_type": "execute_result"
    }
   ],
   "source": [
    "# ###### 필수4\n",
    "# 다음은 변수에 list 자료형인 값을 할당한 코드입니다. 해당 코드를 기준으로 아래의 요구사항을 충족한 코드를 작성해주세요.\n",
    "# # 1. li안에서 7을 출력하는 코드를 입력해 주세요. ★\n",
    "li = [5, 2, 1, 2,  [4, [3, 7, 2], 6]]\n",
    "li[4][1][1]"
   ]
  },
  {
   "cell_type": "code",
   "execution_count": 68,
   "metadata": {},
   "outputs": [
    {
     "name": "stdout",
     "output_type": "stream",
     "text": [
      "[9, 8, 7, 6, 5, 4, 3, 2, 1, 0]\n"
     ]
    }
   ],
   "source": [
    "# 다음은 변수에 list 자료형인 값을 할당한 코드입니다. 해당 코드를 기준으로 아래의 요구사항을 충족한 코드를 작성해주세요.\n",
    "li = [7,5,3,2,0,9,1,4,8,6]\n",
    "# li를 내림차순으로 정렬하는 코드를 짜 주세요.\n",
    "li.sort(reverse=True)  #★'True' should be capitalized\n",
    "print(li)"
   ]
  },
  {
   "cell_type": "code",
   "execution_count": 79,
   "metadata": {},
   "outputs": [
    {
     "name": "stdout",
     "output_type": "stream",
     "text": [
      "10hello\n"
     ]
    }
   ],
   "source": [
    "# ######심화1\n",
    "# 아래의 print문은 에러를 발생시킵니다. 아래의 코드가 ‘10Hello’라는 값으로 출력되도록 하는 print문을 작성해주세요.\n",
    "# a = [10, 100, 'hello']\n",
    "# print(a[0] + a[2]) # error!\n",
    "\n",
    "a = [10, 100, 'hello']\n",
    "print(str(a[0]) + a[2])"
   ]
  },
  {
   "cell_type": "code",
   "execution_count": 84,
   "metadata": {},
   "outputs": [
    {
     "name": "stdout",
     "output_type": "stream",
     "text": [
      "[5, 4, 3, 2, 1]\n"
     ]
    }
   ],
   "source": [
    "#li = [1, 3, 5, 4, 2]라는 리스트를 [5, 4, 3, 2, 1]로 만들어 출력시키는 코드를 작성해주세요.\n",
    "li = [1, 3, 5, 4, 2]\n",
    "li.sort(reverse=True)\n",
    "print(li)"
   ]
  },
  {
   "cell_type": "code",
   "execution_count": 90,
   "metadata": {},
   "outputs": [
    {
     "name": "stdout",
     "output_type": "stream",
     "text": [
      "(1, 2, 3, 4)\n"
     ]
    }
   ],
   "source": [
    "#튜플 자료형 tu = (1, 2, 3)을 이용해서 (1, 2, 3, 4)가 출력되도록 하는 print문을 작성해주세요.★\n",
    "tu = (1, 2, 3)\n",
    "print(tu + (4,))"
   ]
  },
  {
   "cell_type": "code",
   "execution_count": 130,
   "metadata": {},
   "outputs": [
    {
     "data": {
      "text/plain": [
       "'fastcampus@gmail.com'"
      ]
     },
     "execution_count": 130,
     "metadata": {},
     "output_type": "execute_result"
    }
   ],
   "source": [
    "# #####심화2\n",
    "# 파이썬에는 문자열을 일정 규칙에 따라 list 자료형으로 만들어주는 split 함수와 https://wikidocs.net/13#split★\n",
    "# list 자료형을 문자열로 만들어주는 join 함수가 있습니다. https://wikidocs.net/13#join\n",
    "# 이 두 함수와 아래의 문자열 변수 make_email을 활용해서 이메일 형식의 문자열(fastcampus@gmail.com)을 출력하는 코드를 작성해주세요.\n",
    "\n",
    "# make_email = 'fastcampus,gmail.com'\n",
    "\n",
    "# 주의: make_email에 split 함수를 사용한다고 해서 make_email의 값이 변하지는 않습니다. \n",
    "# 문자열을 List 자료형으로 변환한 그 값을 변수에 할당하는 등의 방법을 사용해서 코드를 작성해주세요.\n",
    "# ex) hello = 'a:b:c:d'\n",
    "# hello.split(':')\n",
    "\n",
    "# print(hello) # 'a:b:c:d'\n",
    "\n",
    "make_email = 'fastcampus,gmail.com'\n",
    "'@'.join(make_email.split(','))"
   ]
  },
  {
   "cell_type": "code",
   "execution_count": 148,
   "metadata": {},
   "outputs": [
    {
     "name": "stdout",
     "output_type": "stream",
     "text": [
      "['16', '17', '18']\n"
     ]
    }
   ],
   "source": [
    "# #####심화4\n",
    "# Q1> 아래 date 리스트에서 각 날짜 년, 월, 일 중 ‘일’ 만 빼서 day 리스트에 넣어보세요.\n",
    "# date = [‘2019-06-16’, ‘2019-06-17’, ‘2019-06-18’]\n",
    "# 정답 예시: day = [‘16’, ‘17’, ‘18’]\n",
    "\n",
    "date = ['2019-06-16','2019-06-17','2019-06-18']\n",
    "day = [date[0][8:10], date[1][8:10], date[2][8:10]]\n",
    "print(day)"
   ]
  },
  {
   "cell_type": "code",
   "execution_count": 163,
   "metadata": {},
   "outputs": [
    {
     "name": "stdout",
     "output_type": "stream",
     "text": [
      "[1, 2, 3, 4, 5]\n"
     ]
    }
   ],
   "source": [
    "# #####심화4\n",
    "# Q2> 아래 unordered 리스트를 오름차순으로 정리해보세요.\n",
    "# * 새로운 리스트를 만들지 말고 해결해보세요.\n",
    "# * .sort를 쓰지말고 해결해보세요.\n",
    "# unordered = [5, 4, 1, 2, 3]\n",
    "# 정답 예시: unordered = [1, 2, 3, 4, 5]\n",
    "\n",
    "unordered = [5, 4, 1, 2, 3]\n",
    "del unordered [0:2]\n",
    "add=[4,5]\n",
    "unordered.extend (add)\n",
    "print(unordered)"
   ]
  },
  {
   "cell_type": "code",
   "execution_count": 102,
   "metadata": {},
   "outputs": [
    {
     "name": "stdout",
     "output_type": "stream",
     "text": [
      "[-123, -23, -11, -10, -3, 1, 3, 5, 6, 10, 23, 45, 78, 90]\n"
     ]
    },
    {
     "data": {
      "text/plain": [
       "[-123, -23, -11]"
      ]
     },
     "execution_count": 102,
     "metadata": {},
     "output_type": "execute_result"
    }
   ],
   "source": [
    "# #####심화5\n",
    "# 다음과 같은 리스트가 주어졌을 때 가장 큰 숫자 3개와 가장 작은 숫자 3개를 슬라이싱을 이용해 출력하는 코드를 작성해주세요.\n",
    "# number = [3, 5, 6, 10, -3, -10, -123, 45, 78, 90, 1, -11, -23, 23]\n",
    "# 실행 예: \n",
    "# largest: [45, 78, 90]\n",
    "# smallest: [-11, -23, -123]\n",
    "\n",
    "number = [3, 5, 6, 10, -3, -10, -123, 45, 78, 90, 1, -11, -23, 23]\n",
    "number2=sorted(number)\n",
    "print(number2)\n",
    "number2[:-4:-1] #뒤에서 셋째자리까지 역순으로 slicing\n",
    "number2[:3] #시작점부터 3째자리 추출"
   ]
  }
 ],
 "metadata": {
  "kernelspec": {
   "display_name": "Python 3",
   "language": "python",
   "name": "python3"
  },
  "language_info": {
   "codemirror_mode": {
    "name": "ipython",
    "version": 3
   },
   "file_extension": ".py",
   "mimetype": "text/x-python",
   "name": "python",
   "nbconvert_exporter": "python",
   "pygments_lexer": "ipython3",
   "version": "3.7.3"
  }
 },
 "nbformat": 4,
 "nbformat_minor": 2
}
