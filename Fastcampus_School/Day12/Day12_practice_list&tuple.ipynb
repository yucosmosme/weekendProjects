{
 "cells": [
  {
   "cell_type": "code",
   "execution_count": 1,
   "metadata": {},
   "outputs": [],
   "source": [
    "#python data type (자료형)\n",
    "\n",
    "#리스트: 순서 있고, 중복 가능, 수정 가능, 삭제 가능 -> 가장 많이 쓰이는 데이터타입"
   ]
  },
  {
   "cell_type": "code",
   "execution_count": 2,
   "metadata": {},
   "outputs": [],
   "source": [
    "#리스트 선언: 대괄호로 묶음. \n",
    "#(cf. 튜플은 소괄호로 묶음)\n",
    "\n",
    "a=[]\n",
    "b=list() # 거의 안씀. 형변환 할때 씀..\n",
    "c=[1,2,3,4]\n",
    "d=[10, 100, 'pen','banana','orange']\n",
    "e=[10, 100, ['pen', 'banana', 'orange']]  #리스트안에 리스트 삽입 가능. 전체가 통으로 1개의 개체로 간주됨"
   ]
  },
  {
   "cell_type": "code",
   "execution_count": 3,
   "metadata": {},
   "outputs": [],
   "source": [
    "#인덱싱 - 원하는 값을 가져올 수 있음\n",
    "#문자열은 한번 할당하면 변경할 수 없고, 순서대로 0, 1, 2 ...의 값을 가짐\n",
    "#인덱스의 범위를 지정하는 것 : 슬라이싱"
   ]
  },
  {
   "cell_type": "code",
   "execution_count": 4,
   "metadata": {},
   "outputs": [
    {
     "name": "stdout",
     "output_type": "stream",
     "text": [
      "banana\n"
     ]
    }
   ],
   "source": [
    "print(d[3]) \n",
    "\n",
    "#d 리스트의 (0부터 시작해서) 3번째 값을 인덱싱"
   ]
  },
  {
   "cell_type": "code",
   "execution_count": 5,
   "metadata": {},
   "outputs": [
    {
     "name": "stdout",
     "output_type": "stream",
     "text": [
      "banana\n"
     ]
    }
   ],
   "source": [
    "print(d[-2])\n",
    "\n",
    "#d 리스트의 뒤에서 (-1부터 시작) 2번째 값 인덱싱"
   ]
  },
  {
   "cell_type": "code",
   "execution_count": 6,
   "metadata": {},
   "outputs": [
    {
     "name": "stdout",
     "output_type": "stream",
     "text": [
      "110\n"
     ]
    }
   ],
   "source": [
    "print(d[0]+d[1]) #★"
   ]
  },
  {
   "cell_type": "code",
   "execution_count": 7,
   "metadata": {},
   "outputs": [
    {
     "name": "stdout",
     "output_type": "stream",
     "text": [
      "banana\n"
     ]
    }
   ],
   "source": [
    "print(e[2][1]) \n",
    "\n",
    "#e 리스트 안의 리스트에서 2번째(0부터시작) 값 인덱싱"
   ]
  },
  {
   "cell_type": "code",
   "execution_count": 8,
   "metadata": {},
   "outputs": [
    {
     "name": "stdout",
     "output_type": "stream",
     "text": [
      "banana\n"
     ]
    }
   ],
   "source": [
    "print(e[-1][-2])\n",
    "\n",
    "#e 리스트 안에 뒤에서 첫번쨰 리스트에서 뒤에서 두번째 값 추출"
   ]
  },
  {
   "cell_type": "code",
   "execution_count": 9,
   "metadata": {},
   "outputs": [
    {
     "name": "stdout",
     "output_type": "stream",
     "text": [
      "[10, 100, 'pen']\n"
     ]
    }
   ],
   "source": [
    "#슬라이싱 - 연속적인 개체들에 범위를 지정하여 추출\n",
    "\n",
    "print(d[0:3])"
   ]
  },
  {
   "cell_type": "code",
   "execution_count": 10,
   "metadata": {},
   "outputs": [
    {
     "name": "stdout",
     "output_type": "stream",
     "text": [
      "['banana', 'orange']\n"
     ]
    }
   ],
   "source": [
    "print(e[2][1:3])\n",
    "\n",
    "#리스트 안의 리스트를 slicing 추출"
   ]
  },
  {
   "cell_type": "code",
   "execution_count": 11,
   "metadata": {},
   "outputs": [
    {
     "name": "stdout",
     "output_type": "stream",
     "text": [
      "[1, 2, 3, 4, 10, 100, 'pen', 'banana', 'orange']\n"
     ]
    }
   ],
   "source": [
    "#연산\n",
    "\n",
    "print(c+d)"
   ]
  },
  {
   "cell_type": "code",
   "execution_count": 12,
   "metadata": {},
   "outputs": [
    {
     "name": "stdout",
     "output_type": "stream",
     "text": [
      "[10, 100, 'pen', 'banana', 'orange', 10, 100, 'pen', 'banana', 'orange', 10, 100, 'pen', 'banana', 'orange']\n"
     ]
    }
   ],
   "source": [
    "print(d*3)\n",
    "\n",
    "#리스트 3번 반복 추출"
   ]
  },
  {
   "cell_type": "code",
   "execution_count": 13,
   "metadata": {},
   "outputs": [
    {
     "name": "stdout",
     "output_type": "stream",
     "text": [
      "1hi\n"
     ]
    }
   ],
   "source": [
    "print(str(c[0])+'hi')\n",
    "\n",
    "#숫자 더하기 문자는 오류나기때문에 숫자를 string으로 바꿔주어야함"
   ]
  },
  {
   "cell_type": "code",
   "execution_count": 14,
   "metadata": {
    "scrolled": true
   },
   "outputs": [
    {
     "name": "stdout",
     "output_type": "stream",
     "text": [
      "[77, 2, 3, 4]\n"
     ]
    }
   ],
   "source": [
    "#리스트 수정\n",
    "\n",
    "c[0]=77\n",
    "print(c)\n",
    "\n",
    "# c리스트의 0번쨰 값을 77로 변경  (-> 위에 계산한 것들도 다 바뀜)"
   ]
  },
  {
   "cell_type": "code",
   "execution_count": 15,
   "metadata": {},
   "outputs": [
    {
     "name": "stdout",
     "output_type": "stream",
     "text": [
      "[77, 10, 1000, 1000, 3, 4]\n"
     ]
    }
   ],
   "source": [
    "#리스트 내 삽입\n",
    "\n",
    "#슬라이싱 해서 슬라이싱 개체수보다 많게 바꿔줄 수 있음\n",
    "c[1:2]=[10, 1000, 1000]\n",
    "print(c)  \n",
    "\n",
    "#?????????????????????"
   ]
  },
  {
   "cell_type": "code",
   "execution_count": 16,
   "metadata": {},
   "outputs": [
    {
     "name": "stdout",
     "output_type": "stream",
     "text": [
      "[77, ['a', 'b', 'c'], 1000, 1000, 3, 4]\n"
     ]
    }
   ],
   "source": [
    "#리스트 내 삽입\n",
    "\n",
    "#슬라이싱 범위 지정하지 않고 인덱싱만 해서 바꿔주면 인덱스가 통으로 들어감(중첩)\n",
    "c[1]=['a','b','c']\n",
    "print(c)"
   ]
  },
  {
   "cell_type": "code",
   "execution_count": 17,
   "metadata": {},
   "outputs": [
    {
     "name": "stdout",
     "output_type": "stream",
     "text": [
      "[77, 1000, 1000, 3, 4]\n"
     ]
    }
   ],
   "source": [
    "#리스트 내 삭제 - 몇번쨰 객체를 삭제할것인지 지정해야함\n",
    "\n",
    "\n",
    "del c[1]\n",
    "print(c)\n",
    "#cf. 리스트 내 리스트는 1개의 객체로 간주되기 때문에 통으로 삭제됨"
   ]
  },
  {
   "cell_type": "code",
   "execution_count": 18,
   "metadata": {},
   "outputs": [],
   "source": [
    "#리스트 함수"
   ]
  },
  {
   "cell_type": "code",
   "execution_count": 19,
   "metadata": {},
   "outputs": [
    {
     "name": "stdout",
     "output_type": "stream",
     "text": [
      "[5, 2, 3, 1, 4]\n"
     ]
    }
   ],
   "source": [
    "#선언\n",
    "\n",
    "y=[5,2,3,1,4]\n",
    "print(y)"
   ]
  },
  {
   "cell_type": "code",
   "execution_count": 20,
   "metadata": {},
   "outputs": [
    {
     "name": "stdout",
     "output_type": "stream",
     "text": [
      "[1, 2, 3, [55, 66]]\n"
     ]
    }
   ],
   "source": [
    "#append 함수 - 덧붙임\n",
    "\n",
    "u=[1,2,3]\n",
    "v=[55,66]\n",
    "u.append(v)\n",
    "print(u)"
   ]
  },
  {
   "cell_type": "code",
   "execution_count": 21,
   "metadata": {},
   "outputs": [
    {
     "name": "stdout",
     "output_type": "stream",
     "text": [
      "[1, 2, 3, 4, 5]\n"
     ]
    }
   ],
   "source": [
    "#sort 함수 - 정렬\n",
    "\n",
    "y.sort()\n",
    "print(y)"
   ]
  },
  {
   "cell_type": "code",
   "execution_count": 22,
   "metadata": {},
   "outputs": [
    {
     "name": "stdout",
     "output_type": "stream",
     "text": [
      "[5, 4, 3, 2, 1]\n"
     ]
    }
   ],
   "source": [
    "#reverse 함수 - 순서를 거꾸로 정렬\n",
    "\n",
    "y.reverse()\n",
    "print(y)"
   ]
  },
  {
   "cell_type": "code",
   "execution_count": 23,
   "metadata": {},
   "outputs": [
    {
     "name": "stdout",
     "output_type": "stream",
     "text": [
      "[5, 4, 7, 3, 2, 1]\n"
     ]
    }
   ],
   "source": [
    "#insert 함수 - 삽입\n",
    "\n",
    "#함수이름.insert(a, b) : a번째 자리에 b객체 삽입 \n",
    " \n",
    "y.insert(2,7)\n",
    "print(y)"
   ]
  },
  {
   "cell_type": "code",
   "execution_count": 24,
   "metadata": {},
   "outputs": [
    {
     "name": "stdout",
     "output_type": "stream",
     "text": [
      "[5, 4, 3, 2, 1]\n"
     ]
    }
   ],
   "source": [
    "#remove 함수 - 삭제\n",
    "#함수이름.remove(데이터값) : 내가 원하는 데이터값을 지정하여 삭제\n",
    "#같은 데이터 값이 여러개 있을 경우 앞에서 먼저 나오는 값을 삭제함\n",
    "\n",
    "# cf. del은 인덱스에서 몇번쨰의 데이터를 삭제할것인지 지정하여 삭제\n",
    "\n",
    "y.remove(7)\n",
    "print(y)"
   ]
  },
  {
   "cell_type": "code",
   "execution_count": 25,
   "metadata": {},
   "outputs": [
    {
     "name": "stdout",
     "output_type": "stream",
     "text": [
      "[5, 4, 3, 2]\n"
     ]
    }
   ],
   "source": [
    "#pop 함수 - 리스트의 마지막 요소를 꺼내줌 (삭제)\n",
    "\n",
    "y.pop()\n",
    "print(y)"
   ]
  },
  {
   "cell_type": "code",
   "execution_count": 26,
   "metadata": {},
   "outputs": [
    {
     "name": "stdout",
     "output_type": "stream",
     "text": [
      "[1, 2, 3, 88, 77]\n"
     ]
    }
   ],
   "source": [
    "#extend 함수 - 값 추가\n",
    "\n",
    "#extend는 현재 리스트에서 값을 연장하는 개념인 반면,\n",
    "#append는 리스트 내에 또다른 리스트를 삽입하는 개념 \n",
    "\n",
    "y=[1,2,3]\n",
    "x=[88,77]\n",
    "y.extend(x)\n",
    "print(y)"
   ]
  },
  {
   "cell_type": "code",
   "execution_count": 27,
   "metadata": {},
   "outputs": [],
   "source": [
    "#튜플\n",
    "#순서 있고, 중복 가능, 수정 불가, 삭제 불가 \n",
    "#(삭제: del, remove, pop 등 적용 불가) (cf. 리스트는 수정, 삭제 모두 가능)\n",
    "#프로그램에 영향을 미치는 중요한 키 값, 계좌번호 등 변경하면 안되는 규칙에 적용\n",
    "#순서가 있기 때문에 인덱스로 적용 -> indexing, slicing, 더하기 등 적용하여 출력 가능"
   ]
  },
  {
   "cell_type": "code",
   "execution_count": 28,
   "metadata": {},
   "outputs": [],
   "source": [
    "#튜플 선언 : 소괄호로 묶음 (cf. 리스트는 대괄호로 묶음)\n",
    "\n",
    "f=()\n",
    "g=(1,) #원소가 하나밖에 없으면 튜플이 될 수 없음 -> 값 뒤에 ',' 삽입하면 튜플로 인식\n",
    "h=(1,2,3,4)\n",
    "i=(10,100,('a','b','c'))"
   ]
  },
  {
   "cell_type": "code",
   "execution_count": 29,
   "metadata": {},
   "outputs": [
    {
     "data": {
      "text/plain": [
       "tuple"
      ]
     },
     "execution_count": 29,
     "metadata": {},
     "output_type": "execute_result"
    }
   ],
   "source": [
    "# 대괄호로 묶지 않아도 튜플로 인식\n",
    "j=1,2,3\n",
    "type(j)"
   ]
  },
  {
   "cell_type": "code",
   "execution_count": 30,
   "metadata": {
    "scrolled": false
   },
   "outputs": [
    {
     "ename": "TypeError",
     "evalue": "'tuple' object doesn't support item deletion",
     "output_type": "error",
     "traceback": [
      "\u001b[1;31m---------------------------------------------------------------------------\u001b[0m",
      "\u001b[1;31mTypeError\u001b[0m                                 Traceback (most recent call last)",
      "\u001b[1;32m<ipython-input-30-392992389375>\u001b[0m in \u001b[0;36m<module>\u001b[1;34m\u001b[0m\n\u001b[1;32m----> 1\u001b[1;33m \u001b[1;32mdel\u001b[0m \u001b[0mh\u001b[0m\u001b[1;33m[\u001b[0m\u001b[1;36m2\u001b[0m\u001b[1;33m]\u001b[0m\u001b[1;33m\u001b[0m\u001b[1;33m\u001b[0m\u001b[0m\n\u001b[0m\u001b[0;32m      2\u001b[0m \u001b[1;33m\u001b[0m\u001b[0m\n\u001b[0;32m      3\u001b[0m \u001b[1;31m#튜플을 지우려고 하면 밑에 delition 지원하지 않는다고 에러 발생\u001b[0m\u001b[1;33m\u001b[0m\u001b[1;33m\u001b[0m\u001b[1;33m\u001b[0m\u001b[0m\n",
      "\u001b[1;31mTypeError\u001b[0m: 'tuple' object doesn't support item deletion"
     ]
    }
   ],
   "source": [
    "del h[2]\n",
    "\n",
    "#튜플을 지우려고 하면 밑에 delition 지원하지 않는다고 에러 발생 "
   ]
  },
  {
   "cell_type": "code",
   "execution_count": null,
   "metadata": {},
   "outputs": [],
   "source": [
    "#튜플 함수"
   ]
  },
  {
   "cell_type": "code",
   "execution_count": null,
   "metadata": {},
   "outputs": [],
   "source": [
    "print (100 in i)\n",
    "\n",
    "# i 튜플 안에 100이라는 데이터 값이 있으면 true, 없으면 false로 출력됨"
   ]
  },
  {
   "cell_type": "code",
   "execution_count": null,
   "metadata": {},
   "outputs": [],
   "source": [
    "print(i.index(100))\n",
    "\n",
    "# i 튜플 리스트에서 '100'이라는 데이터를 가지는 값의 인덱스(위치)를 반환함"
   ]
  },
  {
   "cell_type": "code",
   "execution_count": null,
   "metadata": {
    "scrolled": true
   },
   "outputs": [],
   "source": [
    "k=1,2,3,4,5,1,2,1\n",
    "print(k.count(1))\n",
    "\n",
    "# k 튜플 리스트에서 '1' 값을 가지는 데이터의 개수를 반환함"
   ]
  },
  {
   "cell_type": "code",
   "execution_count": null,
   "metadata": {
    "scrolled": true
   },
   "outputs": [],
   "source": [
    "# string data type도 immutable... 바꿀수없음.\n",
    "# string type 쓰다가 중간에 뭘 바꿔야 하면 list type 으로 바꿔서 mutable이 되게 한 다음 바꿔준 다음 string으로 바꿔줌\n",
    "l=\"I'm the best\"\n",
    "l[0]=\"y\"   #str does not support item assignment <- ㅣ string의 0번째 값을 y로 바꿀 수 없음"
   ]
  },
  {
   "cell_type": "code",
   "execution_count": null,
   "metadata": {},
   "outputs": [],
   "source": [
    "# -> ㅣ string data type을 list data type으로 바꿔줌\n",
    "l = list(l)\n",
    "type(l)"
   ]
  },
  {
   "cell_type": "code",
   "execution_count": null,
   "metadata": {},
   "outputs": [],
   "source": []
  },
  {
   "cell_type": "code",
   "execution_count": null,
   "metadata": {},
   "outputs": [],
   "source": []
  }
 ],
 "metadata": {
  "kernelspec": {
   "display_name": "Python 3",
   "language": "python",
   "name": "python3"
  },
  "language_info": {
   "codemirror_mode": {
    "name": "ipython",
    "version": 3
   },
   "file_extension": ".py",
   "mimetype": "text/x-python",
   "name": "python",
   "nbconvert_exporter": "python",
   "pygments_lexer": "ipython3",
   "version": "3.7.3"
  }
 },
 "nbformat": 4,
 "nbformat_minor": 2
}
